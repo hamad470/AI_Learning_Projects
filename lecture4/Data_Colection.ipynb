{
 "cells": [
  {
   "cell_type": "code",
   "execution_count": 3,
   "metadata": {},
   "outputs": [
    {
     "name": "stdout",
     "output_type": "stream",
     "text": [
      "<Response [200]>\n"
     ]
    }
   ],
   "source": [
    "\n",
    "from bs4 import BeautifulSoup\n",
    "import requests\n",
    "url = \"https://www.nhlbi.nih.gov/health/blood-tests\"\n",
    "response= requests.get(url=url)\n",
    "print(response)\n",
    "\n"
   ]
  },
  {
   "cell_type": "code",
   "execution_count": 4,
   "metadata": {},
   "outputs": [],
   "source": [
    "soup = BeautifulSoup(response.text, 'lxml')"
   ]
  },
  {
   "cell_type": "code",
   "execution_count": 6,
   "metadata": {},
   "outputs": [
    {
     "name": "stdout",
     "output_type": "stream",
     "text": [
      "['Test', 'Normal Range Results*']\n"
     ]
    }
   ],
   "source": [
    "table = soup.find(\"table\")\n",
    "theads = table.find_all(\"th\")\n",
    "titles = []\n",
    "for th in theads:\n",
    "    titles.append(th.text.strip(\" \\n\"))\n",
    "print(titles)"
   ]
  },
  {
   "cell_type": "code",
   "execution_count": 7,
   "metadata": {},
   "outputs": [
    {
     "name": "stdout",
     "output_type": "stream",
     "text": [
      "0\n"
     ]
    }
   ],
   "source": [
    "import pandas as pd\n",
    "df =pd.DataFrame(columns=titles)\n",
    "print(len(df))"
   ]
  },
  {
   "cell_type": "code",
   "execution_count": 8,
   "metadata": {},
   "outputs": [
    {
     "data": {
      "text/html": [
       "<div>\n",
       "<style scoped>\n",
       "    .dataframe tbody tr th:only-of-type {\n",
       "        vertical-align: middle;\n",
       "    }\n",
       "\n",
       "    .dataframe tbody tr th {\n",
       "        vertical-align: top;\n",
       "    }\n",
       "\n",
       "    .dataframe thead th {\n",
       "        text-align: right;\n",
       "    }\n",
       "</style>\n",
       "<table border=\"1\" class=\"dataframe\">\n",
       "  <thead>\n",
       "    <tr style=\"text-align: right;\">\n",
       "      <th></th>\n",
       "      <th>Test</th>\n",
       "      <th>Normal Range Results*</th>\n",
       "    </tr>\n",
       "  </thead>\n",
       "  <tbody>\n",
       "    <tr>\n",
       "      <th>0</th>\n",
       "      <td>Red blood cell</td>\n",
       "      <td>Adult Men: 5 to 6 million cells/mcL\\n\\t\\t\\tAdu...</td>\n",
       "    </tr>\n",
       "    <tr>\n",
       "      <th>1</th>\n",
       "      <td>White blood cell</td>\n",
       "      <td>4,500 to 10,000 cells/mcL</td>\n",
       "    </tr>\n",
       "    <tr>\n",
       "      <th>2</th>\n",
       "      <td>Platelets</td>\n",
       "      <td>140,000 to 450,000 cells/mcL</td>\n",
       "    </tr>\n",
       "    <tr>\n",
       "      <th>3</th>\n",
       "      <td>Hemoglobin (varies with altitude)</td>\n",
       "      <td>Adult Men: 14 to 17 gm/dL\\n\\t\\t\\tAdult Women:1...</td>\n",
       "    </tr>\n",
       "    <tr>\n",
       "      <th>4</th>\n",
       "      <td>Hematocrit (varies with altitude)</td>\n",
       "      <td>Adult Men: 41% to 50 %\\n\\t\\t\\tAdult Women: 36%...</td>\n",
       "    </tr>\n",
       "    <tr>\n",
       "      <th>5</th>\n",
       "      <td>Mean corpuscular volume</td>\n",
       "      <td>0 to 95 femtoliter†</td>\n",
       "    </tr>\n",
       "  </tbody>\n",
       "</table>\n",
       "</div>"
      ],
      "text/plain": [
       "                                Test  \\\n",
       "0                     Red blood cell   \n",
       "1                   White blood cell   \n",
       "2                          Platelets   \n",
       "3  Hemoglobin (varies with altitude)   \n",
       "4  Hematocrit (varies with altitude)   \n",
       "5            Mean corpuscular volume   \n",
       "\n",
       "                               Normal Range Results*  \n",
       "0  Adult Men: 5 to 6 million cells/mcL\\n\\t\\t\\tAdu...  \n",
       "1                          4,500 to 10,000 cells/mcL  \n",
       "2                       140,000 to 450,000 cells/mcL  \n",
       "3  Adult Men: 14 to 17 gm/dL\\n\\t\\t\\tAdult Women:1...  \n",
       "4  Adult Men: 41% to 50 %\\n\\t\\t\\tAdult Women: 36%...  \n",
       "5                                0 to 95 femtoliter†  "
      ]
     },
     "execution_count": 8,
     "metadata": {},
     "output_type": "execute_result"
    }
   ],
   "source": [
    "rows = table.find_all(\"tr\")\n",
    "count=0\n",
    "\n",
    "for tr in rows:\n",
    "    \n",
    "    tds = tr.find_all(\"td\")\n",
    "    if len(tds) == len(titles):\n",
    "        row=[td.text.strip(\"\\n [] ,=\") for td in tds]\n",
    "        l = len(df)  \n",
    "        df.loc[l]=row\n",
    "df"
   ]
  },
  {
   "cell_type": "code",
   "execution_count": 1,
   "metadata": {},
   "outputs": [],
   "source": [
    "import pandas as pd\n",
    "import ssl\n",
    "\n",
    "# Bypass SSL verification\n",
    "ssl._create_default_https_context = ssl._create_unverified_context\n"
   ]
  },
  {
   "cell_type": "code",
   "execution_count": 2,
   "metadata": {},
   "outputs": [],
   "source": [
    "table = pd.read_html('https://en.wikipedia.org/wiki/Blood_type')"
   ]
  },
  {
   "cell_type": "code",
   "execution_count": 4,
   "metadata": {},
   "outputs": [
    {
     "name": "stdout",
     "output_type": "stream",
     "text": [
      "Table 1:\n",
      "   Phenotype     Genotype\n",
      "0         A  IAIA or IAi\n",
      "1         B  IBIB or IBi\n",
      "2        AB         IAIB\n",
      "3         O           ii \n",
      "\n",
      "Table 2:\n",
      "                                           Unnamed: 0  ABO       Rh Kell Duffy  \\\n",
      "0                                Naturally occurring  Yes       No   No    No   \n",
      "1  Most common in immediate hemolytic transfusion...    A      NaN  Yes   Fya   \n",
      "2  Most common in delayed hemolytic transfusion r...  NaN  E, D, C  NaN   NaN   \n",
      "3    Most common in hemolytic disease of the newborn  Yes     D, C  Yes   NaN   \n",
      "4           Commonly produce intravascular hemolysis  Yes      NaN  NaN   NaN   \n",
      "\n",
      "  Kidd  \n",
      "0   No  \n",
      "1  Jka  \n",
      "2  Jka  \n",
      "3  NaN  \n",
      "4  Yes   \n",
      "\n",
      "Table 3:\n",
      "   Recipient[1] Donor[1]                            \n",
      "  Recipient[1]       O−  O+  A−  A+  B−  B+ AB− AB+\n",
      "0           O−      NaN NaN NaN NaN NaN NaN NaN NaN\n",
      "1           O+      NaN NaN NaN NaN NaN NaN NaN NaN\n",
      "2           A−      NaN NaN NaN NaN NaN NaN NaN NaN\n",
      "3           A+      NaN NaN NaN NaN NaN NaN NaN NaN\n",
      "4           B−      NaN NaN NaN NaN NaN NaN NaN NaN\n",
      "5           B+      NaN NaN NaN NaN NaN NaN NaN NaN\n",
      "6          AB−      NaN NaN NaN NaN NaN NaN NaN NaN\n",
      "7          AB+      NaN NaN NaN NaN NaN NaN NaN NaN \n",
      "\n",
      "Table 4:\n",
      "   Recipient Donor            \n",
      "  Recipient     O   A   B  AB\n",
      "0         O   NaN NaN NaN NaN\n",
      "1         A   NaN NaN NaN NaN\n",
      "2         B   NaN NaN NaN NaN\n",
      "3        AB   NaN NaN NaN NaN \n",
      "\n",
      "Table 5:\n",
      "   vteBlood transfusion and transfusion medicine  \\\n",
      "0                                Blood products   \n",
      "1                              General concepts   \n",
      "2                                       Methods   \n",
      "3                                         Tests   \n",
      "4     Transfusion reactions and adverse effects   \n",
      "5                           Blood group systems   \n",
      "\n",
      "     vteBlood transfusion and transfusion medicine.1  \n",
      "0  Whole blood Platelets Platelet transfusion Red...  \n",
      "1  Blood bank Blood donation Blood management Int...  \n",
      "2  Apheresis (plasmapheresis, plateletpheresis, l...  \n",
      "3  Blood compatibility testing Cross-matching Coo...  \n",
      "4  Transfusion hemosiderosis Transfusion related ...  \n",
      "5  Blood types ABO Secretor status Augustine CD59...   \n",
      "\n",
      "Table 6:\n",
      "                                        0  \\\n",
      "0  Authority control databases: National   \n",
      "\n",
      "                                                   1  \n",
      "0  France BnF data Germany Israel United States L...   \n",
      "\n"
     ]
    }
   ],
   "source": [
    "for i, table in enumerate(table):\n",
    "    print(f\"Table {i + 1}:\\n\", table, \"\\n\")"
   ]
  },
  {
   "cell_type": "code",
   "execution_count": 5,
   "metadata": {},
   "outputs": [],
   "source": [
    "# for i in range(len(table)):\n",
    "#   print(table[i],'/n')\n",
    "titles = ['Title1', 'Title2', 'Title3', 'Title4'] "
   ]
  },
  {
   "cell_type": "code",
   "execution_count": 14,
   "metadata": {},
   "outputs": [
    {
     "name": "stdout",
     "output_type": "stream",
     "text": [
      "The first table is a Series, not a DataFrame. Column titles cannot be assigned.\n"
     ]
    }
   ],
   "source": [
    "df = None\n",
    "if isinstance(table[0], pd.DataFrame):\n",
    "    if len(titles) == len(table[0].columns):\n",
    "        df = pd.DataFrame(table[0].values, columns=titles)\n",
    "    else:\n",
    "        raise ValueError(\"The number of titles does not match the number of columns in the table.\")\n",
    "else:\n",
    "    # If the table is a Series, we can't set column titles in the same way\n",
    "    print(\"The first table is a Series, not a DataFrame. Column titles cannot be assigned.\")"
   ]
  },
  {
   "cell_type": "code",
   "execution_count": 15,
   "metadata": {},
   "outputs": [
    {
     "name": "stdout",
     "output_type": "stream",
     "text": [
      "DataFrame 'df' was not created due to the mismatch in the number of titles and columns or because the table is a Series.\n"
     ]
    }
   ],
   "source": [
    "if df is not None:\n",
    "    print(f\"Length of the DataFrame: {len(df)}\")\n",
    "\n",
    "    # Optionally, print the DataFrame to verify the columns\n",
    "    print(df)\n",
    "else:\n",
    "    print(\"DataFrame 'df' was not created due to the mismatch in the number of titles and columns or because the table is a Series.\")"
   ]
  }
 ],
 "metadata": {
  "kernelspec": {
   "display_name": "Python 3",
   "language": "python",
   "name": "python3"
  },
  "language_info": {
   "codemirror_mode": {
    "name": "ipython",
    "version": 3
   },
   "file_extension": ".py",
   "mimetype": "text/x-python",
   "name": "python",
   "nbconvert_exporter": "python",
   "pygments_lexer": "ipython3",
   "version": "3.10.12"
  }
 },
 "nbformat": 4,
 "nbformat_minor": 2
}

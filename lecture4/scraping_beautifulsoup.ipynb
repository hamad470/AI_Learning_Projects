{
 "cells": [
  {
   "cell_type": "code",
   "execution_count": 1,
   "metadata": {},
   "outputs": [
    {
     "name": "stdout",
     "output_type": "stream",
     "text": [
      "Defaulting to user installation because normal site-packages is not writeable\n",
      "Collecting beautifulsoup4\n",
      "  Downloading beautifulsoup4-4.12.3-py3-none-any.whl.metadata (3.8 kB)\n",
      "Collecting soupsieve>1.2 (from beautifulsoup4)\n",
      "  Downloading soupsieve-2.5-py3-none-any.whl.metadata (4.7 kB)\n",
      "Downloading beautifulsoup4-4.12.3-py3-none-any.whl (147 kB)\n",
      "   ---------------------------------------- 0.0/147.9 kB ? eta -:--:--\n",
      "   -------- ------------------------------- 30.7/147.9 kB 1.3 MB/s eta 0:00:01\n",
      "   -------- ------------------------------- 30.7/147.9 kB 1.3 MB/s eta 0:00:01\n",
      "   ---------- ---------------------------- 41.0/147.9 kB 281.8 kB/s eta 0:00:01\n",
      "   ---------------- ---------------------- 61.4/147.9 kB 328.2 kB/s eta 0:00:01\n",
      "   ------------------------ -------------- 92.2/147.9 kB 403.5 kB/s eta 0:00:01\n",
      "   ------------------------ -------------- 92.2/147.9 kB 403.5 kB/s eta 0:00:01\n",
      "   ------------------------ -------------- 92.2/147.9 kB 403.5 kB/s eta 0:00:01\n",
      "   ------------------------ -------------- 92.2/147.9 kB 403.5 kB/s eta 0:00:01\n",
      "   ------------------------ -------------- 92.2/147.9 kB 403.5 kB/s eta 0:00:01\n",
      "   ------------------------ -------------- 92.2/147.9 kB 403.5 kB/s eta 0:00:01\n",
      "   ------------------------ -------------- 92.2/147.9 kB 403.5 kB/s eta 0:00:01\n",
      "   ------------------------------------ - 143.4/147.9 kB 258.0 kB/s eta 0:00:01\n",
      "   ------------------------------------ - 143.4/147.9 kB 258.0 kB/s eta 0:00:01\n",
      "   -------------------------------------- 147.9/147.9 kB 231.8 kB/s eta 0:00:00\n",
      "Downloading soupsieve-2.5-py3-none-any.whl (36 kB)\n",
      "Installing collected packages: soupsieve, beautifulsoup4\n",
      "Successfully installed beautifulsoup4-4.12.3 soupsieve-2.5\n"
     ]
    },
    {
     "name": "stderr",
     "output_type": "stream",
     "text": [
      "\n",
      "[notice] A new release of pip is available: 24.1.2 -> 24.2\n",
      "[notice] To update, run: python.exe -m pip install --upgrade pip\n"
     ]
    }
   ],
   "source": [
    "!pip install beautifulsoup4"
   ]
  },
  {
   "cell_type": "code",
   "execution_count": 4,
   "metadata": {},
   "outputs": [
    {
     "name": "stdout",
     "output_type": "stream",
     "text": [
      "<Response [200]>\n"
     ]
    }
   ],
   "source": [
    "from bs4 import BeautifulSoup\n",
    "import requests\n",
    "url = \"https://en.wikipedia.org/wiki/Rankings_of_universities_in_the_United_Kingdom\"\n",
    "response= requests.get(url=url)\n",
    "print(response)"
   ]
  },
  {
   "cell_type": "code",
   "execution_count": 5,
   "metadata": {},
   "outputs": [],
   "source": [
    "\n",
    "soup = BeautifulSoup(response.text,'lxml')"
   ]
  },
  {
   "cell_type": "code",
   "execution_count": 6,
   "metadata": {},
   "outputs": [
    {
     "name": "stdout",
     "output_type": "stream",
     "text": [
      "['Rank (1–10)', 'University', 'Rank (11–20)', 'University', 'Rank (21–30)', 'University', 'Rank (31–40)', 'University']\n"
     ]
    }
   ],
   "source": [
    "table = soup.find(\"table\",class_ = \"wikitable\")\n",
    "theads = table.find_all(\"th\")\n",
    "titles = []\n",
    "for th in theads:\n",
    "    titles.append(th.text.strip(\" \\n\"))\n",
    "print(titles)"
   ]
  },
  {
   "cell_type": "code",
   "execution_count": 7,
   "metadata": {},
   "outputs": [
    {
     "name": "stdout",
     "output_type": "stream",
     "text": [
      "0\n"
     ]
    }
   ],
   "source": [
    "import pandas as pd\n",
    "df =pd.DataFrame(columns=titles)\n",
    "print(len(df))"
   ]
  },
  {
   "cell_type": "code",
   "execution_count": 8,
   "metadata": {},
   "outputs": [
    {
     "data": {
      "text/html": [
       "<div>\n",
       "<style scoped>\n",
       "    .dataframe tbody tr th:only-of-type {\n",
       "        vertical-align: middle;\n",
       "    }\n",
       "\n",
       "    .dataframe tbody tr th {\n",
       "        vertical-align: top;\n",
       "    }\n",
       "\n",
       "    .dataframe thead th {\n",
       "        text-align: right;\n",
       "    }\n",
       "</style>\n",
       "<table border=\"1\" class=\"dataframe\">\n",
       "  <thead>\n",
       "    <tr style=\"text-align: right;\">\n",
       "      <th></th>\n",
       "      <th>Rank (1–10)</th>\n",
       "      <th>University</th>\n",
       "      <th>Rank (11–20)</th>\n",
       "      <th>University</th>\n",
       "      <th>Rank (21–30)</th>\n",
       "      <th>University</th>\n",
       "      <th>Rank (31–40)</th>\n",
       "      <th>University</th>\n",
       "    </tr>\n",
       "  </thead>\n",
       "  <tbody>\n",
       "    <tr>\n",
       "      <th>0</th>\n",
       "      <td>1</td>\n",
       "      <td>University of Cambridge</td>\n",
       "      <td>11</td>\n",
       "      <td>Lancaster University</td>\n",
       "      <td>21</td>\n",
       "      <td>University of East Anglia</td>\n",
       "      <td>31</td>\n",
       "      <td>University of Essex</td>\n",
       "    </tr>\n",
       "    <tr>\n",
       "      <th>1</th>\n",
       "      <td>2</td>\n",
       "      <td>University of Oxford</td>\n",
       "      <td>12</td>\n",
       "      <td>University of Birmingham</td>\n",
       "      <td>22</td>\n",
       "      <td>University of Manchester</td>\n",
       "      <td>32</td>\n",
       "      <td>Harper Adams University</td>\n",
       "    </tr>\n",
       "    <tr>\n",
       "      <th>2</th>\n",
       "      <td>3</td>\n",
       "      <td>London School of Economics</td>\n",
       "      <td>12</td>\n",
       "      <td>University of Surrey</td>\n",
       "      <td>23</td>\n",
       "      <td>University of Leeds</td>\n",
       "      <td>33</td>\n",
       "      <td>University of Strathclyde</td>\n",
       "    </tr>\n",
       "    <tr>\n",
       "      <th>3</th>\n",
       "      <td>4</td>\n",
       "      <td>University of St Andrews</td>\n",
       "      <td>14</td>\n",
       "      <td>University of Exeter</td>\n",
       "      <td>24</td>\n",
       "      <td>King's College London</td>\n",
       "      <td>34</td>\n",
       "      <td>Northumbria University</td>\n",
       "    </tr>\n",
       "    <tr>\n",
       "      <th>4</th>\n",
       "      <td>5</td>\n",
       "      <td>Imperial College London</td>\n",
       "      <td>15</td>\n",
       "      <td>University of Edinburgh</td>\n",
       "      <td>25</td>\n",
       "      <td>Queen's University Belfast</td>\n",
       "      <td>35</td>\n",
       "      <td>University of Reading</td>\n",
       "    </tr>\n",
       "    <tr>\n",
       "      <th>5</th>\n",
       "      <td>6</td>\n",
       "      <td>Durham University</td>\n",
       "      <td>16</td>\n",
       "      <td>University of Bristol</td>\n",
       "      <td>26</td>\n",
       "      <td>Newcastle University</td>\n",
       "      <td>36</td>\n",
       "      <td>University of Leicester</td>\n",
       "    </tr>\n",
       "    <tr>\n",
       "      <th>6</th>\n",
       "      <td>7</td>\n",
       "      <td>Loughborough University</td>\n",
       "      <td>17</td>\n",
       "      <td>University of York</td>\n",
       "      <td>27</td>\n",
       "      <td>Cardiff University</td>\n",
       "      <td>37</td>\n",
       "      <td>Royal Holloway, University of London</td>\n",
       "    </tr>\n",
       "    <tr>\n",
       "      <th>7</th>\n",
       "      <td>8</td>\n",
       "      <td>University of Bath</td>\n",
       "      <td>18</td>\n",
       "      <td>University of Sheffield</td>\n",
       "      <td>28</td>\n",
       "      <td>University of the Arts London</td>\n",
       "      <td>38</td>\n",
       "      <td>City, University of London</td>\n",
       "    </tr>\n",
       "    <tr>\n",
       "      <th>8</th>\n",
       "      <td>9</td>\n",
       "      <td>University College London</td>\n",
       "      <td>18</td>\n",
       "      <td>University of Liverpool</td>\n",
       "      <td>29</td>\n",
       "      <td>University of Glasgow</td>\n",
       "      <td>39</td>\n",
       "      <td>Swansea University</td>\n",
       "    </tr>\n",
       "    <tr>\n",
       "      <th>9</th>\n",
       "      <td>10</td>\n",
       "      <td>University of Warwick</td>\n",
       "      <td>20</td>\n",
       "      <td>University of Southampton</td>\n",
       "      <td>30</td>\n",
       "      <td>University of Nottingham</td>\n",
       "      <td>40</td>\n",
       "      <td>University of Aberdeen</td>\n",
       "    </tr>\n",
       "  </tbody>\n",
       "</table>\n",
       "</div>"
      ],
      "text/plain": [
       "  Rank (1–10)                  University Rank (11–20)  \\\n",
       "0           1     University of Cambridge           11   \n",
       "1           2        University of Oxford           12   \n",
       "2           3  London School of Economics           12   \n",
       "3           4    University of St Andrews           14   \n",
       "4           5     Imperial College London           15   \n",
       "5           6           Durham University           16   \n",
       "6           7     Loughborough University           17   \n",
       "7           8          University of Bath           18   \n",
       "8           9   University College London           18   \n",
       "9          10       University of Warwick           20   \n",
       "\n",
       "                  University Rank (21–30)                     University  \\\n",
       "0       Lancaster University           21      University of East Anglia   \n",
       "1   University of Birmingham           22       University of Manchester   \n",
       "2       University of Surrey           23            University of Leeds   \n",
       "3       University of Exeter           24          King's College London   \n",
       "4    University of Edinburgh           25     Queen's University Belfast   \n",
       "5      University of Bristol           26           Newcastle University   \n",
       "6         University of York           27             Cardiff University   \n",
       "7    University of Sheffield           28  University of the Arts London   \n",
       "8    University of Liverpool           29          University of Glasgow   \n",
       "9  University of Southampton           30       University of Nottingham   \n",
       "\n",
       "  Rank (31–40)                            University  \n",
       "0           31                   University of Essex  \n",
       "1           32               Harper Adams University  \n",
       "2           33             University of Strathclyde  \n",
       "3           34                Northumbria University  \n",
       "4           35                 University of Reading  \n",
       "5           36               University of Leicester  \n",
       "6           37  Royal Holloway, University of London  \n",
       "7           38            City, University of London  \n",
       "8           39                    Swansea University  \n",
       "9           40                University of Aberdeen  "
      ]
     },
     "execution_count": 8,
     "metadata": {},
     "output_type": "execute_result"
    }
   ],
   "source": [
    "rows = table.find_all(\"tr\")\n",
    "count=0\n",
    "\n",
    "for tr in rows:\n",
    "    \n",
    "    tds = tr.find_all(\"td\")\n",
    "    if len(tds) == len(titles):\n",
    "        row=[td.text.strip(\"\\n [] ,=\") for td in tds]\n",
    "        l = len(df)  \n",
    "        df.loc[l]=row\n",
    "df\n",
    "    \n",
    "    \n",
    "\n",
    "\n",
    "\n",
    "        \n",
    "\n",
    "    "
   ]
  },
  {
   "cell_type": "code",
   "execution_count": null,
   "metadata": {},
   "outputs": [],
   "source": []
  }
 ],
 "metadata": {
  "kernelspec": {
   "display_name": "Python 3",
   "language": "python",
   "name": "python3"
  },
  "language_info": {
   "codemirror_mode": {
    "name": "ipython",
    "version": 3
   },
   "file_extension": ".py",
   "mimetype": "text/x-python",
   "name": "python",
   "nbconvert_exporter": "python",
   "pygments_lexer": "ipython3",
   "version": "3.12.2"
  }
 },
 "nbformat": 4,
 "nbformat_minor": 2
}

{
 "cells": [
  {
   "cell_type": "markdown",
   "metadata": {},
   "source": [
    "Fixing Data BY \n",
    "1-Removing Incorrect Or Correct them \n",
    "2-Removing Dublicate \n",
    "3-Removing na(Null,None) values or fill null values \n",
    "4-Remove outliers \n",
    "Data Transformation \n",
    "Converting Data From one format to another \n",
    "Converting Raw data into valueable data \n"
   ]
  },
  {
   "cell_type": "code",
   "execution_count": null,
   "metadata": {},
   "outputs": [],
   "source": []
  },
  {
   "cell_type": "code",
   "execution_count": 1,
   "metadata": {},
   "outputs": [],
   "source": [
    "import pandas as pd"
   ]
  },
  {
   "cell_type": "code",
   "execution_count": 7,
   "metadata": {},
   "outputs": [],
   "source": [
    "data = {\n",
    "    \"A\":[1,2,3,None,3,4,5],\n",
    "    \"B\":[8,3,4,5,6,1,None],\n",
    "    \"C\":[9,1,2,None,1,2,3]\n",
    "}\n",
    "df = pd.DataFrame(data)"
   ]
  },
  {
   "cell_type": "code",
   "execution_count": 9,
   "metadata": {},
   "outputs": [
    {
     "name": "stdout",
     "output_type": "stream",
     "text": [
      "A    1\n",
      "B    1\n",
      "C    1\n",
      "dtype: int64\n"
     ]
    }
   ],
   "source": [
    "# MISSING VALUES\n",
    "print(df.isnull().sum())"
   ]
  },
  {
   "cell_type": "code",
   "execution_count": 10,
   "metadata": {},
   "outputs": [
    {
     "name": "stdout",
     "output_type": "stream",
     "text": [
      "     A    B    C\n",
      "0  1.0  8.0  9.0\n",
      "1  2.0  3.0  1.0\n",
      "2  3.0  4.0  2.0\n",
      "4  3.0  6.0  1.0\n",
      "5  4.0  1.0  2.0\n",
      "Empty DataFrame\n",
      "Columns: []\n",
      "Index: [0, 1, 2, 3, 4, 5, 6]\n"
     ]
    }
   ],
   "source": [
    "# Remove Row Of na values \n",
    "rows_removed = df.dropna()\n",
    "print(rows_removed)\n",
    "cols_removed  = df.dropna(axis=1)\n",
    "print(cols_removed)"
   ]
  },
  {
   "cell_type": "code",
   "execution_count": 12,
   "metadata": {},
   "outputs": [
    {
     "name": "stdout",
     "output_type": "stream",
     "text": [
      "     A    B    C\n",
      "0  1.0  8.0  9.0\n",
      "1  2.0  3.0  1.0\n",
      "2  3.0  4.0  2.0\n",
      "3  0.0  5.0  0.0\n",
      "4  3.0  6.0  1.0\n",
      "5  4.0  1.0  2.0\n",
      "6  5.0  0.0  3.0\n",
      "     A    B    C\n",
      "0  1.0  8.0  9.0\n",
      "1  2.0  3.0  1.0\n",
      "2  3.0  4.0  2.0\n",
      "3  3.0  5.0  3.0\n",
      "4  3.0  6.0  1.0\n",
      "5  4.0  1.0  2.0\n",
      "6  5.0  4.5  3.0\n"
     ]
    }
   ],
   "source": [
    "# Filled Missing Values \n",
    "# fill by constant Value\n",
    "filled_zero = df.fillna(0)\n",
    "print(filled_zero)\n",
    "\n",
    "filled_mean = df.fillna(df.mean(numeric_only=True))\n",
    "print(filled_mean)"
   ]
  },
  {
   "cell_type": "markdown",
   "metadata": {},
   "source": [
    "HANDLE DUBLICATES "
   ]
  },
  {
   "cell_type": "code",
   "execution_count": 58,
   "metadata": {},
   "outputs": [],
   "source": [
    "data = {\n",
    "    \"A\":[1,2,1,3,4,5,None,'100'],\n",
    "    \"B\":[1,2,2,4,6,7,3,'10'],\n",
    "    \"C\":[1,3,2,5,6,8,5,10]\n",
    "}\n",
    "df= pd.DataFrame(data)\n"
   ]
  },
  {
   "cell_type": "code",
   "execution_count": 59,
   "metadata": {},
   "outputs": [
    {
     "data": {
      "text/html": [
       "<div>\n",
       "<style scoped>\n",
       "    .dataframe tbody tr th:only-of-type {\n",
       "        vertical-align: middle;\n",
       "    }\n",
       "\n",
       "    .dataframe tbody tr th {\n",
       "        vertical-align: top;\n",
       "    }\n",
       "\n",
       "    .dataframe thead th {\n",
       "        text-align: right;\n",
       "    }\n",
       "</style>\n",
       "<table border=\"1\" class=\"dataframe\">\n",
       "  <thead>\n",
       "    <tr style=\"text-align: right;\">\n",
       "      <th></th>\n",
       "      <th>A</th>\n",
       "      <th>B</th>\n",
       "      <th>C</th>\n",
       "    </tr>\n",
       "  </thead>\n",
       "  <tbody>\n",
       "    <tr>\n",
       "      <th>0</th>\n",
       "      <td>1.0</td>\n",
       "      <td>1</td>\n",
       "      <td>1</td>\n",
       "    </tr>\n",
       "    <tr>\n",
       "      <th>1</th>\n",
       "      <td>2.0</td>\n",
       "      <td>2</td>\n",
       "      <td>3</td>\n",
       "    </tr>\n",
       "    <tr>\n",
       "      <th>2</th>\n",
       "      <td>1.0</td>\n",
       "      <td>2</td>\n",
       "      <td>2</td>\n",
       "    </tr>\n",
       "    <tr>\n",
       "      <th>3</th>\n",
       "      <td>3.0</td>\n",
       "      <td>4</td>\n",
       "      <td>5</td>\n",
       "    </tr>\n",
       "    <tr>\n",
       "      <th>4</th>\n",
       "      <td>4.0</td>\n",
       "      <td>6</td>\n",
       "      <td>6</td>\n",
       "    </tr>\n",
       "    <tr>\n",
       "      <th>5</th>\n",
       "      <td>5.0</td>\n",
       "      <td>7</td>\n",
       "      <td>8</td>\n",
       "    </tr>\n",
       "    <tr>\n",
       "      <th>6</th>\n",
       "      <td>NaN</td>\n",
       "      <td>3</td>\n",
       "      <td>5</td>\n",
       "    </tr>\n",
       "    <tr>\n",
       "      <th>7</th>\n",
       "      <td>100.0</td>\n",
       "      <td>10</td>\n",
       "      <td>10</td>\n",
       "    </tr>\n",
       "  </tbody>\n",
       "</table>\n",
       "</div>"
      ],
      "text/plain": [
       "       A   B   C\n",
       "0    1.0   1   1\n",
       "1    2.0   2   3\n",
       "2    1.0   2   2\n",
       "3    3.0   4   5\n",
       "4    4.0   6   6\n",
       "5    5.0   7   8\n",
       "6    NaN   3   5\n",
       "7  100.0  10  10"
      ]
     },
     "execution_count": 59,
     "metadata": {},
     "output_type": "execute_result"
    }
   ],
   "source": [
    "# CONVERTING TO NUMERIC\n",
    "df['A'] = pd.to_numeric(df['A'])\n",
    "df['B']=pd.to_numeric(df['B'])\n",
    "df"
   ]
  },
  {
   "cell_type": "code",
   "execution_count": 60,
   "metadata": {},
   "outputs": [
    {
     "name": "stdout",
     "output_type": "stream",
     "text": [
      "       A   B   C\n",
      "0    1.0   1   1\n",
      "1    2.0   2   3\n",
      "2    1.0   2   2\n",
      "3    3.0   4   5\n",
      "4    4.0   6   6\n",
      "5    5.0   7   8\n",
      "6    NaN   3   5\n",
      "7  100.0  10  10\n"
     ]
    }
   ],
   "source": [
    "# remove Dublicates \n",
    "dublication_removed = df.drop_duplicates(ignore_index=True,subset=[\"A\",\"B\"])\n",
    "print(dublication_removed)\n"
   ]
  },
  {
   "cell_type": "markdown",
   "metadata": {},
   "source": [
    "HANDLING OUTLIERS "
   ]
  },
  {
   "cell_type": "code",
   "execution_count": 61,
   "metadata": {},
   "outputs": [
    {
     "data": {
      "text/html": [
       "<div>\n",
       "<style scoped>\n",
       "    .dataframe tbody tr th:only-of-type {\n",
       "        vertical-align: middle;\n",
       "    }\n",
       "\n",
       "    .dataframe tbody tr th {\n",
       "        vertical-align: top;\n",
       "    }\n",
       "\n",
       "    .dataframe thead th {\n",
       "        text-align: right;\n",
       "    }\n",
       "</style>\n",
       "<table border=\"1\" class=\"dataframe\">\n",
       "  <thead>\n",
       "    <tr style=\"text-align: right;\">\n",
       "      <th></th>\n",
       "      <th>A</th>\n",
       "      <th>B</th>\n",
       "      <th>C</th>\n",
       "    </tr>\n",
       "  </thead>\n",
       "  <tbody>\n",
       "    <tr>\n",
       "      <th>0</th>\n",
       "      <td>1.000000</td>\n",
       "      <td>1</td>\n",
       "      <td>1</td>\n",
       "    </tr>\n",
       "    <tr>\n",
       "      <th>1</th>\n",
       "      <td>2.000000</td>\n",
       "      <td>2</td>\n",
       "      <td>3</td>\n",
       "    </tr>\n",
       "    <tr>\n",
       "      <th>2</th>\n",
       "      <td>1.000000</td>\n",
       "      <td>2</td>\n",
       "      <td>2</td>\n",
       "    </tr>\n",
       "    <tr>\n",
       "      <th>3</th>\n",
       "      <td>3.000000</td>\n",
       "      <td>4</td>\n",
       "      <td>5</td>\n",
       "    </tr>\n",
       "    <tr>\n",
       "      <th>4</th>\n",
       "      <td>4.000000</td>\n",
       "      <td>6</td>\n",
       "      <td>6</td>\n",
       "    </tr>\n",
       "    <tr>\n",
       "      <th>5</th>\n",
       "      <td>5.000000</td>\n",
       "      <td>7</td>\n",
       "      <td>8</td>\n",
       "    </tr>\n",
       "    <tr>\n",
       "      <th>6</th>\n",
       "      <td>16.571429</td>\n",
       "      <td>3</td>\n",
       "      <td>5</td>\n",
       "    </tr>\n",
       "    <tr>\n",
       "      <th>7</th>\n",
       "      <td>100.000000</td>\n",
       "      <td>10</td>\n",
       "      <td>10</td>\n",
       "    </tr>\n",
       "  </tbody>\n",
       "</table>\n",
       "</div>"
      ],
      "text/plain": [
       "            A   B   C\n",
       "0    1.000000   1   1\n",
       "1    2.000000   2   3\n",
       "2    1.000000   2   2\n",
       "3    3.000000   4   5\n",
       "4    4.000000   6   6\n",
       "5    5.000000   7   8\n",
       "6   16.571429   3   5\n",
       "7  100.000000  10  10"
      ]
     },
     "execution_count": 61,
     "metadata": {},
     "output_type": "execute_result"
    }
   ],
   "source": [
    "df = df.fillna(df.mean(numeric_only=True))\n",
    "df"
   ]
  },
  {
   "cell_type": "code",
   "execution_count": 62,
   "metadata": {},
   "outputs": [
    {
     "name": "stdout",
     "output_type": "stream",
     "text": [
      "                A          B          C\n",
      "count    8.000000   8.000000   8.000000\n",
      "mean    16.571429   4.375000   5.000000\n",
      "std     34.087522   3.067689   3.023716\n",
      "min      1.000000   1.000000   1.000000\n",
      "25%      1.750000   2.000000   2.750000\n",
      "50%      3.500000   3.500000   5.000000\n",
      "75%      7.892857   6.250000   6.500000\n",
      "max    100.000000  10.000000  10.000000\n"
     ]
    }
   ],
   "source": [
    "print(df.describe())"
   ]
  },
  {
   "cell_type": "code",
   "execution_count": 63,
   "metadata": {},
   "outputs": [
    {
     "name": "stdout",
     "output_type": "stream",
     "text": [
      "              A         B\n",
      "0 -4.883475e-01 -1.176138\n",
      "1 -4.569858e-01 -0.827653\n",
      "2 -4.883475e-01 -0.827653\n",
      "3 -4.256240e-01 -0.130682\n",
      "4 -3.942622e-01  0.566289\n",
      "5 -3.629005e-01  0.914774\n",
      "6  1.114194e-16 -0.479168\n",
      "7  2.616467e+00  1.960231\n",
      "              A         B\n",
      "0  4.883475e-01  1.176138\n",
      "1  4.569858e-01  0.827653\n",
      "2  4.883475e-01  0.827653\n",
      "3  4.256240e-01  0.130682\n",
      "4  3.942622e-01  0.566289\n",
      "5  3.629005e-01  0.914774\n",
      "6  1.114194e-16  0.479168\n",
      "7  2.616467e+00  1.960231\n"
     ]
    }
   ],
   "source": [
    "from scipy import stats\n",
    "\n",
    "z_score  = stats.zscore(df[[\"A\",\"B\"]])\n",
    "print(z_score)\n",
    "abs_z_scores = abs(z_score)\n",
    "print(abs_z_scores)\n"
   ]
  },
  {
   "cell_type": "code",
   "execution_count": 64,
   "metadata": {},
   "outputs": [
    {
     "name": "stdout",
     "output_type": "stream",
     "text": [
      "0     True\n",
      "1     True\n",
      "2     True\n",
      "3     True\n",
      "4     True\n",
      "5     True\n",
      "6     True\n",
      "7    False\n",
      "dtype: bool\n",
      "           A  B  C\n",
      "0   1.000000  1  1\n",
      "1   2.000000  2  3\n",
      "2   1.000000  2  2\n",
      "3   3.000000  4  5\n",
      "4   4.000000  6  6\n",
      "5   5.000000  7  8\n",
      "6  16.571429  3  5\n"
     ]
    }
   ],
   "source": [
    "filtered_entries = (abs_z_scores < 1.9).all(axis=1)\n",
    "print(filtered_entries)\n",
    "df_no_outliers = df[filtered_entries]\n",
    "print(df_no_outliers)"
   ]
  },
  {
   "cell_type": "markdown",
   "metadata": {},
   "source": [
    "HANDLE STR DATA"
   ]
  },
  {
   "cell_type": "code",
   "execution_count": 73,
   "metadata": {},
   "outputs": [
    {
     "data": {
      "text/html": [
       "<div>\n",
       "<style scoped>\n",
       "    .dataframe tbody tr th:only-of-type {\n",
       "        vertical-align: middle;\n",
       "    }\n",
       "\n",
       "    .dataframe tbody tr th {\n",
       "        vertical-align: top;\n",
       "    }\n",
       "\n",
       "    .dataframe thead th {\n",
       "        text-align: right;\n",
       "    }\n",
       "</style>\n",
       "<table border=\"1\" class=\"dataframe\">\n",
       "  <thead>\n",
       "    <tr style=\"text-align: right;\">\n",
       "      <th></th>\n",
       "      <th>A</th>\n",
       "      <th>B</th>\n",
       "    </tr>\n",
       "  </thead>\n",
       "  <tbody>\n",
       "    <tr>\n",
       "      <th>0</th>\n",
       "      <td>a</td>\n",
       "      <td>H</td>\n",
       "    </tr>\n",
       "    <tr>\n",
       "      <th>1</th>\n",
       "      <td>b</td>\n",
       "      <td>s</td>\n",
       "    </tr>\n",
       "    <tr>\n",
       "      <th>2</th>\n",
       "      <td>C</td>\n",
       "      <td>n</td>\n",
       "    </tr>\n",
       "    <tr>\n",
       "      <th>3</th>\n",
       "      <td>1</td>\n",
       "      <td>d</td>\n",
       "    </tr>\n",
       "    <tr>\n",
       "      <th>4</th>\n",
       "      <td>f h</td>\n",
       "      <td>f</td>\n",
       "    </tr>\n",
       "  </tbody>\n",
       "</table>\n",
       "</div>"
      ],
      "text/plain": [
       "     A   B\n",
       "0   a   H \n",
       "1    b   s\n",
       "2    C  n \n",
       "3    1  d \n",
       "4  f h   f"
      ]
     },
     "execution_count": 73,
     "metadata": {},
     "output_type": "execute_result"
    }
   ],
   "source": [
    "data = {\n",
    "    \"A\":['a ','b','C',1,'f h'],\n",
    "    \"B\":['H ',' s','n ','d ','f']\n",
    "}\n",
    "df = pd.DataFrame(data)\n",
    "df"
   ]
  },
  {
   "cell_type": "code",
   "execution_count": 75,
   "metadata": {},
   "outputs": [
    {
     "data": {
      "text/html": [
       "<div>\n",
       "<style scoped>\n",
       "    .dataframe tbody tr th:only-of-type {\n",
       "        vertical-align: middle;\n",
       "    }\n",
       "\n",
       "    .dataframe tbody tr th {\n",
       "        vertical-align: top;\n",
       "    }\n",
       "\n",
       "    .dataframe thead th {\n",
       "        text-align: right;\n",
       "    }\n",
       "</style>\n",
       "<table border=\"1\" class=\"dataframe\">\n",
       "  <thead>\n",
       "    <tr style=\"text-align: right;\">\n",
       "      <th></th>\n",
       "      <th>A</th>\n",
       "      <th>B</th>\n",
       "    </tr>\n",
       "  </thead>\n",
       "  <tbody>\n",
       "    <tr>\n",
       "      <th>0</th>\n",
       "      <td>a</td>\n",
       "      <td>H</td>\n",
       "    </tr>\n",
       "    <tr>\n",
       "      <th>1</th>\n",
       "      <td>b</td>\n",
       "      <td>s</td>\n",
       "    </tr>\n",
       "    <tr>\n",
       "      <th>2</th>\n",
       "      <td>C</td>\n",
       "      <td>n</td>\n",
       "    </tr>\n",
       "    <tr>\n",
       "      <th>3</th>\n",
       "      <td>NaN</td>\n",
       "      <td>d</td>\n",
       "    </tr>\n",
       "    <tr>\n",
       "      <th>4</th>\n",
       "      <td>f h</td>\n",
       "      <td>f</td>\n",
       "    </tr>\n",
       "  </tbody>\n",
       "</table>\n",
       "</div>"
      ],
      "text/plain": [
       "     A  B\n",
       "0    a  H\n",
       "1    b  s\n",
       "2    C  n\n",
       "3  NaN  d\n",
       "4  f h  f"
      ]
     },
     "execution_count": 75,
     "metadata": {},
     "output_type": "execute_result"
    }
   ],
   "source": [
    "df['A'] = df['A'].str.strip()\n",
    "df['B']  = df['B'].str.strip()\n",
    "\n",
    "df"
   ]
  },
  {
   "cell_type": "code",
   "execution_count": 76,
   "metadata": {},
   "outputs": [
    {
     "data": {
      "text/html": [
       "<div>\n",
       "<style scoped>\n",
       "    .dataframe tbody tr th:only-of-type {\n",
       "        vertical-align: middle;\n",
       "    }\n",
       "\n",
       "    .dataframe tbody tr th {\n",
       "        vertical-align: top;\n",
       "    }\n",
       "\n",
       "    .dataframe thead th {\n",
       "        text-align: right;\n",
       "    }\n",
       "</style>\n",
       "<table border=\"1\" class=\"dataframe\">\n",
       "  <thead>\n",
       "    <tr style=\"text-align: right;\">\n",
       "      <th></th>\n",
       "      <th>A</th>\n",
       "      <th>B</th>\n",
       "    </tr>\n",
       "  </thead>\n",
       "  <tbody>\n",
       "    <tr>\n",
       "      <th>0</th>\n",
       "      <td>a</td>\n",
       "      <td>h</td>\n",
       "    </tr>\n",
       "    <tr>\n",
       "      <th>1</th>\n",
       "      <td>b</td>\n",
       "      <td>s</td>\n",
       "    </tr>\n",
       "    <tr>\n",
       "      <th>2</th>\n",
       "      <td>c</td>\n",
       "      <td>n</td>\n",
       "    </tr>\n",
       "    <tr>\n",
       "      <th>3</th>\n",
       "      <td>NaN</td>\n",
       "      <td>d</td>\n",
       "    </tr>\n",
       "    <tr>\n",
       "      <th>4</th>\n",
       "      <td>f h</td>\n",
       "      <td>f</td>\n",
       "    </tr>\n",
       "  </tbody>\n",
       "</table>\n",
       "</div>"
      ],
      "text/plain": [
       "     A  B\n",
       "0    a  h\n",
       "1    b  s\n",
       "2    c  n\n",
       "3  NaN  d\n",
       "4  f h  f"
      ]
     },
     "execution_count": 76,
     "metadata": {},
     "output_type": "execute_result"
    }
   ],
   "source": [
    "df['A'] = df['A'].str.lower()\n",
    "df['B']  = df['B'].str.lower()\n",
    "df"
   ]
  },
  {
   "cell_type": "markdown",
   "metadata": {},
   "source": [
    "DATE TIME"
   ]
  },
  {
   "cell_type": "code",
   "execution_count": 77,
   "metadata": {},
   "outputs": [
    {
     "name": "stdout",
     "output_type": "stream",
     "text": [
      "\n",
      "Original DataFrame with date as string:\n",
      "            A         B\n",
      "0  2021-01-01  1/1/2021\n",
      "1  2021-02-01  2/1/2021\n",
      "2  2021-03-01  3/1/2021\n",
      "\n",
      "DataFrame after converting to datetime:\n",
      "           A          B\n",
      "0 2021-01-01 2021-01-01\n",
      "1 2021-02-01 2021-02-01\n",
      "2 2021-03-01 2021-03-01\n"
     ]
    }
   ],
   "source": [
    "data = {\n",
    "    'A': ['2021-01-01', '2021-02-01', '2021-03-01'],\n",
    "    'B': ['1/1/2021', '2/1/2021', '3/1/2021']\n",
    "}\n",
    "\n",
    "df = pd.DataFrame(data)\n",
    "print(\"\\nOriginal DataFrame with date as string:\")\n",
    "print(df)\n",
    "\n",
    "# Convert to datetime\n",
    "df['A'] = pd.to_datetime(df['A'])\n",
    "df['B'] = pd.to_datetime(df['B'])\n",
    "print(\"\\nDataFrame after converting to datetime:\")\n",
    "print(df)\n"
   ]
  },
  {
   "cell_type": "markdown",
   "metadata": {},
   "source": [
    "ONE HOT ENCODING"
   ]
  },
  {
   "cell_type": "code",
   "execution_count": 78,
   "metadata": {},
   "outputs": [
    {
     "name": "stdout",
     "output_type": "stream",
     "text": [
      "\n",
      "Original DataFrame with categorical data:\n",
      "   A  B\n",
      "0  a  x\n",
      "1  b  y\n",
      "2  a  z\n",
      "3  c  x\n",
      "\n",
      "DataFrame after one-hot encoding:\n",
      "     A_a    A_b    A_c    B_x    B_y    B_z\n",
      "0   True  False  False   True  False  False\n",
      "1  False   True  False  False   True  False\n",
      "2   True  False  False  False  False   True\n",
      "3  False  False   True   True  False  False\n"
     ]
    }
   ],
   "source": [
    "# Sample DataFrame with categorical data\n",
    "data = {\n",
    "    'A': ['a', 'b', 'a', 'c'],\n",
    "    'B': ['x', 'y', 'z', 'x']\n",
    "}\n",
    "\n",
    "df = pd.DataFrame(data)\n",
    "print(\"\\nOriginal DataFrame with categorical data:\")\n",
    "print(df)\n",
    "\n",
    "df_encoded = pd.get_dummies(df, columns=['A', 'B'])\n",
    "print(\"\\nDataFrame after one-hot encoding:\")\n",
    "print(df_encoded)\n",
    "\n"
   ]
  },
  {
   "cell_type": "code",
   "execution_count": 1,
   "metadata": {},
   "outputs": [
    {
     "name": "stdout",
     "output_type": "stream",
     "text": [
      "   Color  Color_Encoded\n",
      "0    red              2\n",
      "1   blue              0\n",
      "2  green              1\n",
      "3   blue              0\n",
      "4  green              1\n",
      "5    red              2\n"
     ]
    }
   ],
   "source": [
    "import pandas as pd\n",
    "from sklearn.preprocessing import LabelEncoder\n",
    "\n",
    "# Sample data\n",
    "data = {'Color': ['red', 'blue', 'green', 'blue', 'green', 'red']}\n",
    "df = pd.DataFrame(data)\n",
    "\n",
    "# Apply label encoding\n",
    "label_encoder = LabelEncoder()\n",
    "df['Color_Encoded'] = label_encoder.fit_transform(df['Color'])\n",
    "\n",
    "print(df)\n"
   ]
  },
  {
   "cell_type": "code",
   "execution_count": 2,
   "metadata": {},
   "outputs": [
    {
     "name": "stdout",
     "output_type": "stream",
     "text": [
      "     Size  Size_Encoded\n",
      "0   small           0.0\n",
      "1  medium           1.0\n",
      "2   large           2.0\n",
      "3  medium           1.0\n",
      "4   small           0.0\n"
     ]
    }
   ],
   "source": [
    "from sklearn.preprocessing import OrdinalEncoder\n",
    "\n",
    "data = {'Size': ['small', 'medium', 'large', 'medium', 'small']}\n",
    "df = pd.DataFrame(data)\n",
    "\n",
    "size_order = ['small', 'medium', 'large']\n",
    "\n",
    "ordinal_encoder = OrdinalEncoder(categories=[size_order])\n",
    "df['Size_Encoded'] = ordinal_encoder.fit_transform(df[['Size']])\n",
    "\n",
    "print(df)\n"
   ]
  },
  {
   "cell_type": "markdown",
   "metadata": {},
   "source": [
    "DELIEVERED"
   ]
  },
  {
   "cell_type": "code",
   "execution_count": 88,
   "metadata": {},
   "outputs": [],
   "source": [
    "data  = {\n",
    "    \"A\" :[1,2,4,1,5,'1',7,1,10,None,1000],\n",
    "    \"B\" :[1,4,5,4,1,8,None,'0',1,1,10000],\n",
    "    \"C\" :[1,4,3,4,2,3,4,5,6,1,100],\n",
    "    \"D\":[\"20/12/2024\",\"21/11/23\",\"20/12/2024\",\"21/11/23\",\"20/12/2024\",\"21/11/23\",\"20/12/2024\",\"21/11/23\",\"20/12/2024\",\"21/11/23\",\"20/12/2024\"]\n",
    "\n",
    "\n",
    "}\n",
    "df = pd.DataFrame(data)"
   ]
  },
  {
   "cell_type": "code",
   "execution_count": 89,
   "metadata": {},
   "outputs": [],
   "source": [
    "# CONVERT INTO NUMERIC \n",
    "\n",
    "df[\"A\"] = pd.to_numeric(df[\"A\"])\n",
    "df['B'] = pd.to_numeric(df[\"B\"])\n"
   ]
  },
  {
   "cell_type": "code",
   "execution_count": 84,
   "metadata": {},
   "outputs": [
    {
     "name": "stdout",
     "output_type": "stream",
     "text": [
      "        A        B    C           D\n",
      "0     4.0      5.0    3  20/12/2024\n",
      "1     1.0      4.0    4    21/11/23\n",
      "2     5.0      1.0    2  20/12/2024\n",
      "3     1.0      8.0    3    21/11/23\n",
      "4     7.0      NaN    4  20/12/2024\n",
      "5     1.0      0.0    5    21/11/23\n",
      "6    10.0      1.0    6  20/12/2024\n",
      "7     NaN      1.0    1    21/11/23\n",
      "8  1000.0  10000.0  100  20/12/2024\n"
     ]
    }
   ],
   "source": [
    "# REMOVING DUBLICATION \n",
    "\n",
    "after_removing_ublication = df.drop_duplicates(ignore_index=True,keep='last',subset=['B','C'])\n",
    "print(after_removing_ublication)"
   ]
  },
  {
   "cell_type": "code",
   "execution_count": 85,
   "metadata": {},
   "outputs": [
    {
     "name": "stdout",
     "output_type": "stream",
     "text": [
      "         A        B    C           D\n",
      "0      1.0      1.0    1  20/12/2024\n",
      "1      2.0      4.0    4    21/11/23\n",
      "2      4.0      5.0    3  20/12/2024\n",
      "3      1.0      4.0    4    21/11/23\n",
      "4      5.0      1.0    2  20/12/2024\n",
      "5      1.0      8.0    3    21/11/23\n",
      "6      7.0   1002.5    4  20/12/2024\n",
      "7      1.0      0.0    5    21/11/23\n",
      "8     10.0      1.0    6  20/12/2024\n",
      "9    103.2      1.0    1    21/11/23\n",
      "10  1000.0  10000.0  100  20/12/2024\n"
     ]
    }
   ],
   "source": [
    "# HANDLE NULL VALUES\n",
    "df =df.fillna(df.mean(numeric_only=True))\n",
    "print(df)\n",
    " "
   ]
  },
  {
   "cell_type": "code",
   "execution_count": 70,
   "metadata": {},
   "outputs": [],
   "source": [
    "# REMOVE OUTLIERS\n",
    "\n",
    "from scipy import stats\n",
    "\n"
   ]
  },
  {
   "cell_type": "code",
   "execution_count": 86,
   "metadata": {},
   "outputs": [
    {
     "name": "stdout",
     "output_type": "stream",
     "text": [
      "0      True\n",
      "1      True\n",
      "2      True\n",
      "3      True\n",
      "4      True\n",
      "5      True\n",
      "6      True\n",
      "7      True\n",
      "8      True\n",
      "9      True\n",
      "10    False\n",
      "dtype: bool\n",
      "       A       B  C           D\n",
      "0    1.0     1.0  1  20/12/2024\n",
      "1    2.0     4.0  4    21/11/23\n",
      "2    4.0     5.0  3  20/12/2024\n",
      "3    1.0     4.0  4    21/11/23\n",
      "4    5.0     1.0  2  20/12/2024\n",
      "5    1.0     8.0  3    21/11/23\n",
      "6    7.0  1002.5  4  20/12/2024\n",
      "7    1.0     0.0  5    21/11/23\n",
      "8   10.0     1.0  6  20/12/2024\n",
      "9  103.2     1.0  1    21/11/23\n"
     ]
    }
   ],
   "source": [
    "z_score = stats.zscore(df[['A','B','C']])\n",
    "absolute = abs(z_score)\n",
    "\n",
    "remove = (absolute<3).all(axis=1)\n",
    "print(remove)\n",
    "df = df[remove]\n",
    "print(df)"
   ]
  },
  {
   "cell_type": "code",
   "execution_count": 91,
   "metadata": {},
   "outputs": [
    {
     "name": "stdout",
     "output_type": "stream",
     "text": [
      "         A        B    C           D\n",
      "0      1.0      1.0    1  20+12+2024\n",
      "1      2.0      4.0    4    21+11+23\n",
      "2      4.0      5.0    3  20+12+2024\n",
      "3      1.0      4.0    4    21+11+23\n",
      "4      5.0      1.0    2  20+12+2024\n",
      "5      1.0      8.0    3    21+11+23\n",
      "6      7.0      NaN    4  20+12+2024\n",
      "7      1.0      0.0    5    21+11+23\n",
      "8     10.0      1.0    6  20+12+2024\n",
      "9      NaN      1.0    1    21+11+23\n",
      "10  1000.0  10000.0  100  20+12+2024\n"
     ]
    }
   ],
   "source": [
    "\n",
    "df[\"D\"] =df[\"D\"].astype(str).str.replace('-','+')\n",
    "print(df)"
   ]
  },
  {
   "cell_type": "code",
   "execution_count": 120,
   "metadata": {},
   "outputs": [
    {
     "data": {
      "text/html": [
       "<div>\n",
       "<style scoped>\n",
       "    .dataframe tbody tr th:only-of-type {\n",
       "        vertical-align: middle;\n",
       "    }\n",
       "\n",
       "    .dataframe tbody tr th {\n",
       "        vertical-align: top;\n",
       "    }\n",
       "\n",
       "    .dataframe thead th {\n",
       "        text-align: right;\n",
       "    }\n",
       "</style>\n",
       "<table border=\"1\" class=\"dataframe\">\n",
       "  <thead>\n",
       "    <tr style=\"text-align: right;\">\n",
       "      <th></th>\n",
       "      <th>A</th>\n",
       "      <th>D</th>\n",
       "      <th>C</th>\n",
       "    </tr>\n",
       "  </thead>\n",
       "  <tbody>\n",
       "    <tr>\n",
       "      <th>0</th>\n",
       "      <td>a ,</td>\n",
       "      <td>a</td>\n",
       "      <td>a</td>\n",
       "    </tr>\n",
       "    <tr>\n",
       "      <th>1</th>\n",
       "      <td>b</td>\n",
       "      <td>n</td>\n",
       "      <td>d</td>\n",
       "    </tr>\n",
       "    <tr>\n",
       "      <th>2</th>\n",
       "      <td>c</td>\n",
       "      <td>f</td>\n",
       "      <td>d</td>\n",
       "    </tr>\n",
       "    <tr>\n",
       "      <th>3</th>\n",
       "      <td>d f</td>\n",
       "      <td>f</td>\n",
       "      <td>d</td>\n",
       "    </tr>\n",
       "    <tr>\n",
       "      <th>4</th>\n",
       "      <td>i</td>\n",
       "      <td>s</td>\n",
       "      <td>f</td>\n",
       "    </tr>\n",
       "    <tr>\n",
       "      <th>5</th>\n",
       "      <td>a</td>\n",
       "      <td>a</td>\n",
       "      <td>a</td>\n",
       "    </tr>\n",
       "  </tbody>\n",
       "</table>\n",
       "</div>"
      ],
      "text/plain": [
       "     A   D   C\n",
       "0  a ,   a  a \n",
       "1    b   n   d\n",
       "2   c    f   d\n",
       "3  d f  f    d\n",
       "4    i  s    f\n",
       "5    a   a   a"
      ]
     },
     "execution_count": 120,
     "metadata": {},
     "output_type": "execute_result"
    }
   ],
   "source": [
    "data = {\n",
    "    \"A\":['a ,',' b','c ','d f','i','a'],\n",
    "    \"D\":['a','n','f','f ','s ','a'],\n",
    "    \"C\":['a ','d',' d','d','f','a']\n",
    "}\n",
    "\n",
    "df = pd.DataFrame(data)\n",
    "df"
   ]
  },
  {
   "cell_type": "code",
   "execution_count": 121,
   "metadata": {},
   "outputs": [],
   "source": [
    "df[\"A\"] = df[\"A\"].str.strip()\n",
    "df[\"D\"]=df['D'].str.strip()\n",
    "df['C'] = df['C'].str.strip()"
   ]
  },
  {
   "cell_type": "code",
   "execution_count": 122,
   "metadata": {},
   "outputs": [
    {
     "name": "stdout",
     "output_type": "stream",
     "text": [
      "     A  D  C\n",
      "0  a ,  a  a\n",
      "1    b  n  d\n",
      "2    c  f  d\n",
      "3  d f  f  d\n",
      "4    i  s  f\n",
      "5    a  a  a\n"
     ]
    }
   ],
   "source": [
    "df = df.drop_duplicates(df,keep='last')\n",
    "print(df)"
   ]
  },
  {
   "cell_type": "markdown",
   "metadata": {},
   "source": [
    "ENCODING TECHNIQUES"
   ]
  },
  {
   "cell_type": "code",
   "execution_count": 123,
   "metadata": {},
   "outputs": [
    {
     "name": "stdout",
     "output_type": "stream",
     "text": [
      "     A_a  A_a ,    A_b    A_c  A_d f    A_i    D_a    D_f    D_n    D_s  \\\n",
      "0  False   True  False  False  False  False   True  False  False  False   \n",
      "1  False  False   True  False  False  False  False  False   True  False   \n",
      "2  False  False  False   True  False  False  False   True  False  False   \n",
      "3  False  False  False  False   True  False  False   True  False  False   \n",
      "4  False  False  False  False  False   True  False  False  False   True   \n",
      "5   True  False  False  False  False  False   True  False  False  False   \n",
      "\n",
      "     C_a    C_d    C_f  \n",
      "0   True  False  False  \n",
      "1  False   True  False  \n",
      "2  False   True  False  \n",
      "3  False   True  False  \n",
      "4  False  False   True  \n",
      "5   True  False  False  \n"
     ]
    }
   ],
   "source": [
    "# HOT ENCODING \n",
    "# is use for Categorical data and for dumies data need more space \n",
    "hot_encoding  = pd.get_dummies(df)\n",
    "print(hot_encoding)\n"
   ]
  },
  {
   "cell_type": "code",
   "execution_count": 125,
   "metadata": {},
   "outputs": [
    {
     "name": "stdout",
     "output_type": "stream",
     "text": [
      "Index(['A', 'D', 'C'], dtype='object')\n",
      "   A  D  C\n",
      "0  1  0  0\n",
      "1  2  2  1\n",
      "2  3  1  1\n",
      "3  4  1  1\n",
      "4  5  3  2\n",
      "5  0  0  0\n"
     ]
    }
   ],
   "source": [
    "# LABEL ENCODING \n",
    "\n",
    "# Assigning number to each category of textual data \n",
    "from sklearn.preprocessing import LabelEncoder\n",
    "\n",
    "le = LabelEncoder()\n",
    "categrical_columns = df.select_dtypes(include = ['object','bool']).columns\n",
    "\n",
    "print(categrical_columns)\n",
    "\n",
    "for col in categrical_columns:\n",
    "    df[col] = le.fit_transform(df[col])\n",
    "\n",
    "\n",
    "\n",
    "print(df)"
   ]
  },
  {
   "cell_type": "markdown",
   "metadata": {},
   "source": [
    "<!-- ORDINAL DATA  -->\n",
    "usefull for oridered format data like \n",
    "colors red,blue,white or like low , high , higest"
   ]
  },
  {
   "cell_type": "code",
   "execution_count": 135,
   "metadata": {},
   "outputs": [],
   "source": [
    "data= {\n",
    "    \"AGE\":['oldage','man','man','oldage','child','young','oldage']\n",
    "}\n",
    "df   = pd.DataFrame(data)\n"
   ]
  },
  {
   "cell_type": "code",
   "execution_count": 136,
   "metadata": {},
   "outputs": [
    {
     "data": {
      "text/html": [
       "<div>\n",
       "<style scoped>\n",
       "    .dataframe tbody tr th:only-of-type {\n",
       "        vertical-align: middle;\n",
       "    }\n",
       "\n",
       "    .dataframe tbody tr th {\n",
       "        vertical-align: top;\n",
       "    }\n",
       "\n",
       "    .dataframe thead th {\n",
       "        text-align: right;\n",
       "    }\n",
       "</style>\n",
       "<table border=\"1\" class=\"dataframe\">\n",
       "  <thead>\n",
       "    <tr style=\"text-align: right;\">\n",
       "      <th></th>\n",
       "      <th>AGE</th>\n",
       "    </tr>\n",
       "  </thead>\n",
       "  <tbody>\n",
       "    <tr>\n",
       "      <th>0</th>\n",
       "      <td>oldage</td>\n",
       "    </tr>\n",
       "    <tr>\n",
       "      <th>1</th>\n",
       "      <td>man</td>\n",
       "    </tr>\n",
       "    <tr>\n",
       "      <th>2</th>\n",
       "      <td>man</td>\n",
       "    </tr>\n",
       "    <tr>\n",
       "      <th>3</th>\n",
       "      <td>oldage</td>\n",
       "    </tr>\n",
       "    <tr>\n",
       "      <th>4</th>\n",
       "      <td>child</td>\n",
       "    </tr>\n",
       "    <tr>\n",
       "      <th>5</th>\n",
       "      <td>young</td>\n",
       "    </tr>\n",
       "    <tr>\n",
       "      <th>6</th>\n",
       "      <td>oldage</td>\n",
       "    </tr>\n",
       "  </tbody>\n",
       "</table>\n",
       "</div>"
      ],
      "text/plain": [
       "      AGE\n",
       "0  oldage\n",
       "1     man\n",
       "2     man\n",
       "3  oldage\n",
       "4   child\n",
       "5   young\n",
       "6  oldage"
      ]
     },
     "execution_count": 136,
     "metadata": {},
     "output_type": "execute_result"
    }
   ],
   "source": [
    "df"
   ]
  },
  {
   "cell_type": "code",
   "execution_count": 137,
   "metadata": {},
   "outputs": [
    {
     "name": "stdout",
     "output_type": "stream",
     "text": [
      "   AGE\n",
      "0  3.0\n",
      "1  2.0\n",
      "2  2.0\n",
      "3  3.0\n",
      "4  0.0\n",
      "5  1.0\n",
      "6  3.0\n"
     ]
    }
   ],
   "source": [
    "from sklearn.preprocessing import OrdinalEncoder\n",
    "\n",
    "order = ['child','young','man','oldage']\n",
    "oe  = OrdinalEncoder(categories=[order])\n",
    "df[\"AGE\"] = oe.fit_transform(df[['AGE']])\n",
    "print(df)"
   ]
  }
 ],
 "metadata": {
  "kernelspec": {
   "display_name": "Python 3",
   "language": "python",
   "name": "python3"
  },
  "language_info": {
   "codemirror_mode": {
    "name": "ipython",
    "version": 3
   },
   "file_extension": ".py",
   "mimetype": "text/x-python",
   "name": "python",
   "nbconvert_exporter": "python",
   "pygments_lexer": "ipython3",
   "version": "3.12.3"
  }
 },
 "nbformat": 4,
 "nbformat_minor": 2
}

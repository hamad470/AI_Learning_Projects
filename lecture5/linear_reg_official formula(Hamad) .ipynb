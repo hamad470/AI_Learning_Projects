{
 "cells": [
  {
   "cell_type": "code",
   "execution_count": 1,
   "metadata": {},
   "outputs": [
    {
     "data": {
      "text/html": [
       "<div>\n",
       "<style scoped>\n",
       "    .dataframe tbody tr th:only-of-type {\n",
       "        vertical-align: middle;\n",
       "    }\n",
       "\n",
       "    .dataframe tbody tr th {\n",
       "        vertical-align: top;\n",
       "    }\n",
       "\n",
       "    .dataframe thead th {\n",
       "        text-align: right;\n",
       "    }\n",
       "</style>\n",
       "<table border=\"1\" class=\"dataframe\">\n",
       "  <thead>\n",
       "    <tr style=\"text-align: right;\">\n",
       "      <th></th>\n",
       "      <th>cgpa</th>\n",
       "      <th>package</th>\n",
       "    </tr>\n",
       "  </thead>\n",
       "  <tbody>\n",
       "    <tr>\n",
       "      <th>0</th>\n",
       "      <td>6.89</td>\n",
       "      <td>3.26</td>\n",
       "    </tr>\n",
       "    <tr>\n",
       "      <th>1</th>\n",
       "      <td>5.12</td>\n",
       "      <td>1.98</td>\n",
       "    </tr>\n",
       "    <tr>\n",
       "      <th>2</th>\n",
       "      <td>7.82</td>\n",
       "      <td>3.25</td>\n",
       "    </tr>\n",
       "    <tr>\n",
       "      <th>3</th>\n",
       "      <td>7.42</td>\n",
       "      <td>3.67</td>\n",
       "    </tr>\n",
       "    <tr>\n",
       "      <th>4</th>\n",
       "      <td>6.94</td>\n",
       "      <td>3.57</td>\n",
       "    </tr>\n",
       "    <tr>\n",
       "      <th>...</th>\n",
       "      <td>...</td>\n",
       "      <td>...</td>\n",
       "    </tr>\n",
       "    <tr>\n",
       "      <th>195</th>\n",
       "      <td>6.93</td>\n",
       "      <td>2.46</td>\n",
       "    </tr>\n",
       "    <tr>\n",
       "      <th>196</th>\n",
       "      <td>5.89</td>\n",
       "      <td>2.57</td>\n",
       "    </tr>\n",
       "    <tr>\n",
       "      <th>197</th>\n",
       "      <td>7.21</td>\n",
       "      <td>3.24</td>\n",
       "    </tr>\n",
       "    <tr>\n",
       "      <th>198</th>\n",
       "      <td>7.63</td>\n",
       "      <td>3.96</td>\n",
       "    </tr>\n",
       "    <tr>\n",
       "      <th>199</th>\n",
       "      <td>6.22</td>\n",
       "      <td>2.33</td>\n",
       "    </tr>\n",
       "  </tbody>\n",
       "</table>\n",
       "<p>200 rows × 2 columns</p>\n",
       "</div>"
      ],
      "text/plain": [
       "     cgpa  package\n",
       "0    6.89     3.26\n",
       "1    5.12     1.98\n",
       "2    7.82     3.25\n",
       "3    7.42     3.67\n",
       "4    6.94     3.57\n",
       "..    ...      ...\n",
       "195  6.93     2.46\n",
       "196  5.89     2.57\n",
       "197  7.21     3.24\n",
       "198  7.63     3.96\n",
       "199  6.22     2.33\n",
       "\n",
       "[200 rows x 2 columns]"
      ]
     },
     "execution_count": 1,
     "metadata": {},
     "output_type": "execute_result"
    }
   ],
   "source": [
    "import pandas as pd\n",
    "df = pd.read_csv(\"placement.csv\")\n",
    "df"
   ]
  },
  {
   "cell_type": "code",
   "execution_count": 2,
   "metadata": {},
   "outputs": [
    {
     "name": "stdout",
     "output_type": "stream",
     "text": [
      "2.9993969849246227\n"
     ]
    }
   ],
   "source": [
    "import numpy as np\n",
    "X =np.array(df['cgpa'])\n",
    "\n",
    "\n",
    "\n",
    "y = np.array(df['package'])\n",
    "# y_25 =np.sort(y)\n",
    "y_25 = y[0:20]\n",
    "\n",
    "n =int(len(y_25)*0.10)\n",
    "# print(n)\n",
    "# print(y_25[0:n])\n",
    "\n",
    "mean= np.mean(y[0:-1])\n",
    "min =np.min(y)\n",
    "max = np.max(y)\n",
    "std =np.std(y_25)\n",
    "print(mean)\n"
   ]
  },
  {
   "cell_type": "code",
   "execution_count": 3,
   "metadata": {},
   "outputs": [],
   "source": [
    "from sklearn.model_selection import train_test_split\n",
    "X_train,X_test,y_train,y_test = train_test_split(X,y,test_size =0.2,random_state=2)\n",
    "\n"
   ]
  },
  {
   "cell_type": "code",
   "execution_count": 4,
   "metadata": {},
   "outputs": [],
   "source": [
    "# def best_intialize(X_train,y_train):\n",
    "#     for i in \n",
    "\n"
   ]
  },
  {
   "cell_type": "code",
   "execution_count": 43,
   "metadata": {},
   "outputs": [
    {
     "name": "stdout",
     "output_type": "stream",
     "text": [
      "5.10702591327572e-16\n",
      "[3.0876651680120992, 4.086399200442978, 2.1279877737209754, 1.9494431422249523, 3.4391749112698946, 2.8756434181105717, 2.9481771746558314, 2.831007260236566, 3.517288187549405, 3.5061291480809036, 3.963649766289463, 3.539606266486408, 2.7919506220968113, 2.596667431398036, 2.7473144642228053, 2.6859397471460476, 1.955022661959203, 2.5018155959157737, 2.970495253592834, 3.031869970669592, 2.418122799902013, 2.4794975169787707, 2.356748082825255, 2.4237023196362637, 4.298420950344506, 2.217260089468987, 3.5005496283466524, 2.5241336748527767, 3.4335953915356443, 1.809955148868684, 2.5576107932582812, 3.9022750492127045, 2.4906565564472722, 3.1099832469491018, 1.9606021816934538, 3.227153161368367, 3.7069918585139296, 3.7237304177166815, 3.0820856482778485, 3.204835082431364, 2.261896247342993, 2.4460203985732667, 3.5730833848919117, 3.0876651680120992, 2.6413035892720416, 2.9481771746558314, 2.1279877737209754, 2.713837345817301, 3.3945387533958895, 3.2327326811026182, 3.1657784442916093, 2.4237023196362637, 3.2215736416341167, 2.970495253592834, 4.119876318848483, 3.2104146021656152, 3.054188049606595, 2.1056696947839724, 3.3220049968506293, 3.690253299311178, 2.3623276025595055, 2.8868024575790736, 3.115562766683353, 3.1657784442916093, 2.8923819773133244, 2.518554155118526, 2.9258590957188284, 3.6790942598426755, 2.9202795759845777, 3.2159941218998664, 2.574349352461033, 2.7919506220968113, 2.021976898770212, 3.1267218061518545, 2.9258590957188284, 2.5576107932582812, 3.1769374837601108, 2.5464517537897793, 2.390225201230759, 3.6177195427659177, 3.0709266088093474, 1.4807634845478916, 2.976074773327085, 2.440440878839016, 2.8477458194393184, 3.1936760429628634, 4.158932956988238, 2.507395115650024, 2.16146489212648, 2.507395115650024, 3.3220049968506293, 3.1713579640258605, 2.3623276025595055, 3.2773688389766242, 3.3499025955218835, 2.334430003888252, 2.233998648671739, 3.1992555626971138, 4.337477588484261, 3.517288187549405, 2.976074773327085, 3.534026746752157, 3.740468976919434, 2.987233812795586, 2.970495253592834, 3.0709266088093474, 3.8130027334646925, 3.667935220374174, 2.819848220768065, 3.8130027334646925, 3.076506128543598, 2.6189855103350386, 2.3623276025595055, 2.998392852264088, 3.361061634990385, 2.250737207874491, 3.24947124030537, 4.052922082037473, 3.4782315494096494, 2.3623276025595055, 4.449067983169275, 3.7739460953249377, 3.361061634990385, 2.6245650300692893, 2.730575905020053, 3.628878582234419, 2.4906565564472722, 1.743000912057676, 3.1769374837601108, 2.736155424754304, 3.1657784442916093, 2.9649157338585836, 2.6468831090062923, 3.913434088681206, 3.037449490403843, 4.270523351673252, 2.6357240695377913, 2.574349352461033, 2.976074773327085, 1.9661817014277045, 3.6400376217029216, 2.3958047209650104, 4.147773917519736, 2.4850770367130215, 3.3275845165848805, 3.623299062500168, 4.214728154330745, 2.3623276025595055, 3.5061291480809036, 2.8031096615653124, 3.059767569340846, 2.1893624907977336, 2.8700638983763214, 3.355482115256134, 2.992813332529837, 3.377800194193137, 2.529713194587027, 3.444754431004146, 3.1490398850888575, 3.9301726478839587]\n",
      "params\n",
      "0.5579519734250721 -0.8961119222429152\n",
      "[4.1  3.49 2.08 2.33 1.94 1.48 1.86 3.09 4.21 2.87 3.65 4.   2.89 2.6\n",
      " 2.99 3.25 1.86 3.67 2.37 3.42 2.48 3.65 2.6  2.83 4.08 2.56 3.58 3.81\n",
      " 4.09 2.01 3.63 2.92 3.51 1.94 2.21 3.34 3.34 3.23 2.01 2.61]\n"
     ]
    }
   ],
   "source": [
    "\n",
    "def predict(data,w,b):\n",
    "    prediction =[w*x+b for x in data]\n",
    "    return prediction\n",
    "\n",
    "\n",
    "def improve(cost,ya,X_train,w,b,m):\n",
    "        # lr=0.001\n",
    "    # for i in range(1000):\n",
    "        #decrease value of w and b if cost is negative else increase both\n",
    "        y_mean =ya.mean()\n",
    "        x_mean =X_train.mean()\n",
    "        y_difference = [ya[i]-y_mean for i in range(len(ya))]\n",
    "        x_difference = [X_train[i]-x_mean for i in range(len(X_train))]\n",
    "        nom=[x_difference[i]*y_difference[i] for i in range(len(X_train))]\n",
    "        den=[x_difference[i]*x_difference[i] for i in range(len(X_train))]\n",
    "        \n",
    "        w=sum(nom)/sum(den)\n",
    "        b = y_mean -w*x_mean\n",
    "        \n",
    "\n",
    "        # print(y_difference)\n",
    "        # print(type(y_difference))\n",
    "        # print([x_difference[i]*y_difference for i in range(len(X_train))])\n",
    "\n",
    "        # \n",
    "        prediction =predict(X_train,w,b)\n",
    "        cost  = calculate_cost(ya,prediction)\n",
    "        print(cost)\n",
    "        print(prediction)\n",
    "        print(\"params\")\n",
    "        print(w,b)\n",
    "\n",
    "    \n",
    "        \n",
    "        return (cost,w,b)\n",
    "    \n",
    "def calculate_cost(ya,yp):\n",
    "    # print(\"here\",ya,yp)\n",
    "    # print((ya-yp))\n",
    "    error = [(ya[i]-yp[i]) for i in range(len(ya))]\n",
    "    cost = sum(error)/len(ya)\n",
    "\n",
    "    return cost\n",
    "def fit_model(X_train,y_train,w,b):\n",
    "    \n",
    "    prediction = predict(X_train,w,b)\n",
    "    cost  = calculate_cost(y_train,prediction)\n",
    "    # print(cost)\n",
    "    m=X_train.mean()\n",
    "    cost,w,b = improve(cost,y_train,X_train,w,b,m)\n",
    "    # print(\"training\",cost)\n",
    "    prediction =predict(X_test,w,b)\n",
    "    # cost  = calculate_cost(y_test,prediction)\n",
    "    # print(prediction)\n",
    "    # print(cost,w,b)\n",
    "    return prediction,w,b,cost\n",
    "\n",
    "\n",
    "\n",
    "prediction,w,b,cost = fit_model(X_train,y_train,1,-0.6)\n",
    "# print(b)\n",
    "# print(w)\n",
    "print(y_test)\n",
    "# print(prediction)\n",
    "\n",
    "    \n"
   ]
  },
  {
   "cell_type": "code",
   "execution_count": 44,
   "metadata": {},
   "outputs": [
    {
     "name": "stdout",
     "output_type": "stream",
     "text": [
      "3.891116009744203\n",
      "3.13\n"
     ]
    }
   ],
   "source": [
    "print(prediction[0])\n",
    "print(y_train[0])"
   ]
  },
  {
   "cell_type": "markdown",
   "metadata": {},
   "source": [
    "# cost is negative (-3.9859) when w=1,b=0\n",
    "# cost is negative (-5.3839875) when w=1.2,b=0\n",
    "# cost is negative (-5.8839875) when w=1.2,b=0.5\n",
    "# conclusion so by increasing value of w and b error increased in negative side , move toward negative side\n",
    "# cost is posiutive (1.10595) when w=0.2,b=0.5\n",
    "# cost is positive (1.40595) when w=0.2,b=0.2\n",
    "# conclusion by decreasing value of w and b the error moved towards positive side /\n"
   ]
  },
  {
   "cell_type": "code",
   "execution_count": 45,
   "metadata": {},
   "outputs": [
    {
     "data": {
      "text/plain": [
       "[<matplotlib.lines.Line2D at 0x1a5bc1f6180>]"
      ]
     },
     "execution_count": 45,
     "metadata": {},
     "output_type": "execute_result"
    },
    {
     "data": {
      "image/png": "[encoded data removed]",
      "text/plain": [
       "<Figure size 640x480 with 1 Axes>"
      ]
     },
     "metadata": {},
     "output_type": "display_data"
    }
   ],
   "source": [
    "import matplotlib.pyplot as plt\n",
    "plt.scatter(X_train,y_train)\n",
    "plt.plot(X_test,prediction)"
   ]
  },
  {
   "cell_type": "code",
   "execution_count": 100,
   "metadata": {},
   "outputs": [
    {
     "name": "stdout",
     "output_type": "stream",
     "text": [
      "[3.9751166935323834, 3.1026201515959206, 2.327745600365636, 2.535192330616263, 1.5284655514588068, 1.6626957886798008, 1.9860686328940145, 2.9256802934409736, 3.834785081892252, 2.9317816678601103, 4.194766172621282, 3.5602232330311283, 2.968389914374926, 2.3460497236230444, 3.206343516721234, 3.51141223767804, 1.8457370212538837, 3.267357260912595, 2.974491288794063, 3.4564998679058148, 2.516888207358855, 3.18193801904469, 2.846362425992205, 3.1331270236916016, 3.749365840024348, 2.858565174830477, 3.54191910977372, 3.3771820004570454, 4.005623565628064, 1.864041144511292, 3.712757593509531, 3.2307490143977793, 3.810379584215709, 2.767044558543435, 2.760943184124299, 3.297864133008276, 3.5785273562885367, 2.577901951550216, 2.626712946903305, 2.6877266910946656]\n",
      "[4.1  3.49 2.08 2.33 1.94 1.48 1.86 3.09 4.21 2.87 3.65 4.   2.89 2.6\n",
      " 2.99 3.25 1.86 3.67 2.37 3.42 2.48 3.65 2.6  2.83 4.08 2.56 3.58 3.81\n",
      " 4.09 2.01 3.63 2.92 3.51 1.94 2.21 3.34 3.34 3.23 2.01 2.61]\n"
     ]
    }
   ],
   "source": [
    "print(prediction)\n",
    "print(y_test)"
   ]
  },
  {
   "cell_type": "code",
   "execution_count": null,
   "metadata": {},
   "outputs": [],
   "source": []
  },
  {
   "cell_type": "code",
   "execution_count": null,
   "metadata": {},
   "outputs": [],
   "source": []
  },
  {
   "cell_type": "code",
   "execution_count": null,
   "metadata": {},
   "outputs": [],
   "source": []
  }
 ],
 "metadata": {
  "kernelspec": {
   "display_name": "Python 3",
   "language": "python",
   "name": "python3"
  },
  "language_info": {
   "codemirror_mode": {
    "name": "ipython",
    "version": 3
   },
   "file_extension": ".py",
   "mimetype": "text/x-python",
   "name": "python",
   "nbconvert_exporter": "python",
   "pygments_lexer": "ipython3",
   "version": "3.12.2"
  }
 },
 "nbformat": 4,
 "nbformat_minor": 2
}

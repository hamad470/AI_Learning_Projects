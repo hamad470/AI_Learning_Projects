{
 "cells": [
  {
   "cell_type": "code",
   "execution_count": 1,
   "metadata": {},
   "outputs": [
    {
     "data": {
      "text/html": [
       "<div>\n",
       "<style scoped>\n",
       "    .dataframe tbody tr th:only-of-type {\n",
       "        vertical-align: middle;\n",
       "    }\n",
       "\n",
       "    .dataframe tbody tr th {\n",
       "        vertical-align: top;\n",
       "    }\n",
       "\n",
       "    .dataframe thead th {\n",
       "        text-align: right;\n",
       "    }\n",
       "</style>\n",
       "<table border=\"1\" class=\"dataframe\">\n",
       "  <thead>\n",
       "    <tr style=\"text-align: right;\">\n",
       "      <th></th>\n",
       "      <th>cgpa</th>\n",
       "      <th>package</th>\n",
       "    </tr>\n",
       "  </thead>\n",
       "  <tbody>\n",
       "    <tr>\n",
       "      <th>0</th>\n",
       "      <td>6.89</td>\n",
       "      <td>3.26</td>\n",
       "    </tr>\n",
       "    <tr>\n",
       "      <th>1</th>\n",
       "      <td>5.12</td>\n",
       "      <td>1.98</td>\n",
       "    </tr>\n",
       "    <tr>\n",
       "      <th>2</th>\n",
       "      <td>7.82</td>\n",
       "      <td>3.25</td>\n",
       "    </tr>\n",
       "    <tr>\n",
       "      <th>3</th>\n",
       "      <td>7.42</td>\n",
       "      <td>3.67</td>\n",
       "    </tr>\n",
       "    <tr>\n",
       "      <th>4</th>\n",
       "      <td>6.94</td>\n",
       "      <td>3.57</td>\n",
       "    </tr>\n",
       "    <tr>\n",
       "      <th>...</th>\n",
       "      <td>...</td>\n",
       "      <td>...</td>\n",
       "    </tr>\n",
       "    <tr>\n",
       "      <th>195</th>\n",
       "      <td>6.93</td>\n",
       "      <td>2.46</td>\n",
       "    </tr>\n",
       "    <tr>\n",
       "      <th>196</th>\n",
       "      <td>5.89</td>\n",
       "      <td>2.57</td>\n",
       "    </tr>\n",
       "    <tr>\n",
       "      <th>197</th>\n",
       "      <td>7.21</td>\n",
       "      <td>3.24</td>\n",
       "    </tr>\n",
       "    <tr>\n",
       "      <th>198</th>\n",
       "      <td>7.63</td>\n",
       "      <td>3.96</td>\n",
       "    </tr>\n",
       "    <tr>\n",
       "      <th>199</th>\n",
       "      <td>6.22</td>\n",
       "      <td>2.33</td>\n",
       "    </tr>\n",
       "  </tbody>\n",
       "</table>\n",
       "<p>200 rows × 2 columns</p>\n",
       "</div>"
      ],
      "text/plain": [
       "     cgpa  package\n",
       "0    6.89     3.26\n",
       "1    5.12     1.98\n",
       "2    7.82     3.25\n",
       "3    7.42     3.67\n",
       "4    6.94     3.57\n",
       "..    ...      ...\n",
       "195  6.93     2.46\n",
       "196  5.89     2.57\n",
       "197  7.21     3.24\n",
       "198  7.63     3.96\n",
       "199  6.22     2.33\n",
       "\n",
       "[200 rows x 2 columns]"
      ]
     },
     "execution_count": 1,
     "metadata": {},
     "output_type": "execute_result"
    }
   ],
   "source": [
    "import pandas as pd\n",
    "df = pd.read_csv(\"placement.csv\")\n",
    "df"
   ]
  },
  {
   "cell_type": "code",
   "execution_count": 2,
   "metadata": {},
   "outputs": [
    {
     "name": "stdout",
     "output_type": "stream",
     "text": [
      "2.9567500000000004\n"
     ]
    }
   ],
   "source": [
    "import numpy as np\n",
    "X =np.array(df['cgpa'])\n",
    "\n",
    "\n",
    "\n",
    "y = np.array(df['package'])\n",
    "# y_25 =np.sort(y)\n",
    "y_25 = y[0:40]\n",
    "mean = np.mean(y_25)\n",
    "print(mean)\n",
    "\n",
    "# n =int(len(y_25)*0.10)\n",
    "# print(n)\n",
    "# print(y_25[0:n])\n",
    "\n",
    "# mean= np.mean(y[0:-1])\n",
    "# min =np.min(y)\n",
    "# max = np.max(y)\n",
    "# std =np.std(y_25)\n",
    "# print(mean)\n"
   ]
  },
  {
   "cell_type": "code",
   "execution_count": 3,
   "metadata": {},
   "outputs": [],
   "source": [
    "from sklearn.model_selection import train_test_split\n",
    "X_train,X_test,y_train,y_test = train_test_split(X,y,test_size =0.2,random_state=2)\n",
    "\n"
   ]
  },
  {
   "cell_type": "code",
   "execution_count": 13,
   "metadata": {},
   "outputs": [],
   "source": [
    "import numpy as np"
   ]
  },
  {
   "cell_type": "code",
   "execution_count": 60,
   "metadata": {},
   "outputs": [
    {
     "name": "stdout",
     "output_type": "stream",
     "text": [
      "w:  0.5529927273040885\n",
      "b:  -0.8606585733325247\n",
      "tseting cost:  1324.5839986950682\n"
     ]
    }
   ],
   "source": [
    "\n",
    "def predict(data,w,b):\n",
    "    prediction =[w*x+b for x in data]\n",
    "    # print(len(prediction))\n",
    "    return prediction\n",
    "\n",
    "\n",
    "def improve(X_train,ya,w,b):\n",
    "    lr=0.01\n",
    "    for i in range(10000):\n",
    "        #decrease value of w and b if cost is negative else increase both\n",
    "        # prediction =predict(X_train,w,b)\n",
    "        # val=[(ya[i]-prediction[i])*X_train[i] for i in range(len(X_train))]\n",
    "        # w = (sum(val)*lr)/len(X_train)\n",
    "        # val2=[(ya[i]-prediction[i]) for i in range(len(X_train))]\n",
    "        # b=(sum(val2)*lr)/len(X_train)\n",
    "        # print(b)\n",
    "        # w += lr*cost*m\n",
    "        # b += lr*cost\n",
    "        # prediction =predict(X_train,w,b)\n",
    "        # cost  = calculate_cost(y_test,prediction)\n",
    "        yp =predict(X_train,w,b)\n",
    "        b_error =[(yp[i]-ya[i]) for i in range(len(ya))]\n",
    "        # print(\"b_error: \",b_error)\n",
    "        b_sum =sum(b_error)\n",
    "        # print(\"b_sum: \",b_sum)\n",
    "        b-=(lr*b_sum)/len(ya)\n",
    "        # print(b)\n",
    "        w_error = [(yp[i]-ya[i])*X_train[i] for i in range(len(ya))]\n",
    "        w_sum = sum(w_error)\n",
    "        w-=(lr*w_sum)/len(ya)\n",
    "        cost  = calculate_cost(ya,yp)\n",
    "\n",
    "\n",
    "\n",
    "        \n",
    "        \n",
    "    return (cost,w,b)\n",
    "    \n",
    "def calculate_cost(ya,yp):\n",
    "    # print(\"here\",ya,yp)\n",
    "    # print((ya-yp))\n",
    "    # error = np.subtract(ya,yp)\n",
    "    # print(error)\n",
    "    # error = np.power(error,2)\n",
    "    # cost = np.sum(error)/2*len(ya)\n",
    "    error = [(yp[i]-ya[i])**2 for i in range(len(ya))]\n",
    "    cost = sum(error)/2*len(ya)\n",
    "\n",
    "    return cost\n",
    "def fit_model(X_train,y_train,w,b):\n",
    "    \n",
    "    prediction = predict(X_train,w,b)\n",
    "    cost  = calculate_cost(y_train,prediction)\n",
    "    # print(cost)\n",
    "    # m=X_train.mean()\n",
    "    cost,w,b = improve(X_train,y_train,w,b)\n",
    "    # print(\"training\",cost)\n",
    "    prediction =predict(X_test,w,b)\n",
    "    # cost  = calculate_cost(y_test,prediction)\n",
    "    # print(prediction)\n",
    "    # print(cost,w,b)\n",
    "    return prediction,w,b,cost\n",
    "\n",
    "\n",
    "# fit_model(X_train,y_train,1.5,-0.5)\n",
    "prediction,w,b,cost = fit_model(X_train,y_train,1,-0.5)\n",
    "print(\"w: \",w)\n",
    "print(\"b: \",b)\n",
    "\n",
    "print(\"tseting cost: \",cost)\n",
    "# print(y_train)\n",
    "\n",
    "    \n"
   ]
  },
  {
   "cell_type": "markdown",
   "metadata": {},
   "source": [
    "initial cost :\"637996.0939999997\n",
    "\""
   ]
  },
  {
   "cell_type": "code",
   "execution_count": 61,
   "metadata": {},
   "outputs": [
    {
     "name": "stdout",
     "output_type": "stream",
     "text": [
      "3.8840190269365555\n",
      "4.1\n"
     ]
    }
   ],
   "source": [
    "print(prediction[0])\n",
    "print(y_test[0])"
   ]
  },
  {
   "cell_type": "code",
   "execution_count": 62,
   "metadata": {},
   "outputs": [
    {
     "data": {
      "text/plain": [
       "[<matplotlib.lines.Line2D at 0x24d0811bce0>]"
      ]
     },
     "execution_count": 62,
     "metadata": {},
     "output_type": "execute_result"
    },
    {
     "data": {
      "image/png": "[encoded data removed]",
      "text/plain": [
       "<Figure size 640x480 with 1 Axes>"
      ]
     },
     "metadata": {},
     "output_type": "display_data"
    }
   ],
   "source": [
    "import matplotlib.pyplot as plt\n",
    "plt.scatter(X_train,y_train)\n",
    "plt.plot(X_test,prediction)"
   ]
  },
  {
   "cell_type": "code",
   "execution_count": 63,
   "metadata": {},
   "outputs": [
    {
     "name": "stdout",
     "output_type": "stream",
     "text": [
      "[3.8840190269365555, 3.0932394268917083, 2.3909386632155156, 2.5789561904989062, 1.66651819044716, 1.7881765904540596, 2.0812627359252263, 2.932871535973523, 3.7568306996566143, 2.9384014632465636, 4.083096408766027, 3.507983972369775, 2.9715810268848086, 2.4075284450346386, 3.1872481905334036, 3.463744554185448, 1.9540744086452861, 3.2425474632638123, 2.97711095415785, 3.41397520872808, 2.5623664086797833, 3.16512848144124, 2.8609824814239913, 3.1208890632569126, 3.679411717834043, 2.8720423359700726, 3.4913941905506523, 3.3420861541785483, 3.91166866330176, 1.9706641904644087, 3.646232154195798, 3.2093678996255672, 3.7347109905644515, 2.7890934268744596, 2.783563499601419, 3.2701970996290166, 3.5245737541888973, 2.617665681410192, 2.6619050995945193, 2.717204372324928]\n",
      "[4.1  3.49 2.08 2.33 1.94 1.48 1.86 3.09 4.21 2.87 3.65 4.   2.89 2.6\n",
      " 2.99 3.25 1.86 3.67 2.37 3.42 2.48 3.65 2.6  2.83 4.08 2.56 3.58 3.81\n",
      " 4.09 2.01 3.63 2.92 3.51 1.94 2.21 3.34 3.34 3.23 2.01 2.61]\n"
     ]
    }
   ],
   "source": [
    "print(prediction)\n",
    "print(y_test)"
   ]
  },
  {
   "cell_type": "code",
   "execution_count": null,
   "metadata": {},
   "outputs": [],
   "source": []
  }
 ],
 "metadata": {
  "kernelspec": {
   "display_name": "Python 3",
   "language": "python",
   "name": "python3"
  },
  "language_info": {
   "codemirror_mode": {
    "name": "ipython",
    "version": 3
   },
   "file_extension": ".py",
   "mimetype": "text/x-python",
   "name": "python",
   "nbconvert_exporter": "python",
   "pygments_lexer": "ipython3",
   "version": "3.12.2"
  }
 },
 "nbformat": 4,
 "nbformat_minor": 2
}

{
 "cells": [
  {
   "cell_type": "markdown",
   "metadata": {},
   "source": [
    "Example How Web Page Ranking Works"
   ]
  },
  {
   "cell_type": "markdown",
   "metadata": {},
   "source": [
    "Data"
   ]
  },
  {
   "cell_type": "code",
   "execution_count": 60,
   "metadata": {},
   "outputs": [],
   "source": [
    "# Index  0 = Clicks , 1 = users engage , 2 number of clicks , 3 time spent\n",
    "data ={\n",
    "    \"A\":[2001,2200,10,100],\n",
    "    \"B\":[300,20,30,100],\n",
    "    \"C\":[15,4,12,300],\n",
    "    \"D\":[101,2222,344,566]\n",
    "}\n"
   ]
  },
  {
   "cell_type": "code",
   "execution_count": 61,
   "metadata": {},
   "outputs": [],
   "source": [
    "weights = [2,1,3,5]\n"
   ]
  },
  {
   "cell_type": "code",
   "execution_count": 62,
   "metadata": {},
   "outputs": [],
   "source": [
    "ranking_grades = {}\n",
    "\n",
    "\n",
    "for keys,values in data.items():\n",
    "    ranking_grades[keys] = [v*w for v,w in zip(values,weights)]\n",
    "    ranking_grades[keys] = sum(ranking_grades[keys])\n",
    "    \n",
    "\n",
    "\n"
   ]
  },
  {
   "cell_type": "markdown",
   "metadata": {},
   "source": [
    "Sorting"
   ]
  },
  {
   "cell_type": "code",
   "execution_count": 65,
   "metadata": {},
   "outputs": [
    {
     "data": {
      "text/plain": [
       "5"
      ]
     },
     "execution_count": 65,
     "metadata": {},
     "output_type": "execute_result"
    }
   ],
   "source": [
    "add  =lambda x,y : x+y\n",
    "\n",
    "add(2,3)\n"
   ]
  },
  {
   "cell_type": "code",
   "execution_count": 64,
   "metadata": {},
   "outputs": [
    {
     "data": {
      "text/plain": [
       "{'A': 6732, 'D': 6286, 'C': 1570, 'B': 1210}"
      ]
     },
     "execution_count": 64,
     "metadata": {},
     "output_type": "execute_result"
    }
   ],
   "source": [
    "\n",
    "ranking_grades =  {k: v for k, v in sorted(ranking_grades.items(), key=lambda item: item[1], reverse=True)}\n",
    "\n",
    "ranking_grades\n"
   ]
  }
 ],
 "metadata": {
  "kernelspec": {
   "display_name": "Python 3",
   "language": "python",
   "name": "python3"
  },
  "language_info": {
   "codemirror_mode": {
    "name": "ipython",
    "version": 3
   },
   "file_extension": ".py",
   "mimetype": "text/x-python",
   "name": "python",
   "nbconvert_exporter": "python",
   "pygments_lexer": "ipython3",
   "version": "3.12.3"
  }
 },
 "nbformat": 4,
 "nbformat_minor": 2
}

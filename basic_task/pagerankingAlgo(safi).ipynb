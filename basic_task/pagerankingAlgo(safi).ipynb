{
 "cells": [
  {
   "cell_type": "code",
   "execution_count": null,
   "metadata": {},
   "outputs": [],
   "source": [
    "page = { \n",
    "    \"A\": [50, 1000, 70, 90],\n",
    "    \"B\": [40, 5000, 90, 80],\n",
    "    \"C\": [20, 600, 60, 50],\n",
    "    \"D\": [30, 700, 65, 60]\n",
    "}\n",
    "w = 0.1\n",
    "w1 = 0.3\n",
    "w2 = 0.1\n",
    "w3 = 0.25\n",
    "w4 = 0.35\n",
    "\n",
    "dic = {}\n",
    "for ke, items in page.items():\n",
    "    dic[ke] = (w + w1 * items[0] + w2 * items[1] + w3 * items[2] + w4 * items[3])\n",
    "\n",
    "items = list(dic.items())\n",
    "\n",
    "\n",
    "# print( items)\n",
    "sorted_items = sorted(items,key=lambda x: x[1],reverse=True)\n",
    "print(sorted_items)\n",
    "\n",
    "\n"
   ]
  }
 ],
 "metadata": {
  "language_info": {
   "name": "python"
  }
 },
 "nbformat": 4,
 "nbformat_minor": 2
}

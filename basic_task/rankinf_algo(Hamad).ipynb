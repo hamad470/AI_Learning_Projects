{
 "cells": [
  {
   "cell_type": "code",
   "execution_count": 1,
   "metadata": {},
   "outputs": [],
   "source": [
    "Data={'A':[50,1000,3,2],\n",
    "      'B':[60,900,4,2],\n",
    "      'C':[40,700,2,1],\n",
    "      'D':[70,1100,5,3],\n",
    "      'E':[55,1050,1,7]}\n",
    "      "
   ]
  },
  {
   "cell_type": "code",
   "execution_count": 2,
   "metadata": {},
   "outputs": [],
   "source": [
    "original_data=Data"
   ]
  },
  {
   "cell_type": "code",
   "execution_count": 3,
   "metadata": {},
   "outputs": [],
   "source": [
    "w0,w1,w2,w3,w4=0,0.2,0.2,0.2,0.4"
   ]
  },
  {
   "cell_type": "code",
   "execution_count": 4,
   "metadata": {},
   "outputs": [],
   "source": [
    "def rank_calculator(page):\n",
    "    x1,x2,x3,x4=page[0],page[1],page[2],page[3]\n",
    "    result=w0+w1*x1+w2*x2+w3*x3+w4*x4\n",
    "    return result\n",
    "# print(rank_calculator(Data[\"A\"]))"
   ]
  },
  {
   "cell_type": "code",
   "execution_count": 5,
   "metadata": {},
   "outputs": [],
   "source": [
    "def sort_pages(dic):\n",
    "    sorted_dic=dict(sorted(dic.items(),key = lambda item:item[1],reverse=True))\n",
    "    return sorted_dic\n",
    "                    \n",
    "        "
   ]
  },
  {
   "cell_type": "code",
   "execution_count": 6,
   "metadata": {},
   "outputs": [],
   "source": [
    "def sort_pages(dic):\n",
    "    sorted_dic=dict(sorted(dic.items(),key = lambda item:item[1],reverse=True))\n",
    "    return sorted_dic\n",
    "                    \n",
    "        "
   ]
  },
  {
   "cell_type": "code",
   "execution_count": 7,
   "metadata": {},
   "outputs": [],
   "source": [
    "def display_sorted_pages(new_dic):\n",
    "    list1=[key for key,val in new_dic.items()]\n",
    "    new_sorted_dic={}\n",
    "    for key in list1:\n",
    "        new_sorted_dic[key]=original_data[key]\n",
    "        \n",
    "    return new_sorted_dic\n",
    "        \n",
    "        \n",
    "    \n",
    "    # print(list1)"
   ]
  },
  {
   "cell_type": "code",
   "execution_count": 8,
   "metadata": {},
   "outputs": [
    {
     "name": "stdout",
     "output_type": "stream",
     "text": [
      "211.4\n",
      "193.60000000000002\n",
      "148.8\n",
      "236.2\n",
      "224.0\n",
      "{'D': 236.2, 'E': 224.0, 'A': 211.4, 'B': 193.60000000000002, 'C': 148.8}\n",
      "{'D': [70, 1100, 5, 3], 'E': [55, 1050, 1, 7], 'A': [50, 1000, 3, 2], 'B': [60, 900, 4, 2], 'C': [40, 700, 2, 1]}\n"
     ]
    }
   ],
   "source": [
    "def loop_through(dataset):\n",
    "    new_dic={}\n",
    "    for key,page in dataset.items():\n",
    "        # print(page)\n",
    "        res=rank_calculator(page)\n",
    "        print(res)\n",
    "        new_dic[key]=res\n",
    "    sorted_dic=sort_pages(new_dic)\n",
    "    print(sorted_dic)\n",
    "    print(display_sorted_pages(sorted_dic))\n",
    "    \n",
    "        \n",
    "    \n",
    "\n",
    "        \n",
    "loop_through(Data)"
   ]
  },
  {
   "cell_type": "code",
   "execution_count": null,
   "metadata": {},
   "outputs": [],
   "source": []
  }
 ],
 "metadata": {
  "kernelspec": {
   "display_name": "base",
   "language": "python",
   "name": "python3"
  },
  "language_info": {
   "codemirror_mode": {
    "name": "ipython",
    "version": 3
   },
   "file_extension": ".py",
   "mimetype": "text/x-python",
   "name": "python",
   "nbconvert_exporter": "python",
   "pygments_lexer": "ipython3",
   "version": "3.11.7"
  }
 },
 "nbformat": 4,
 "nbformat_minor": 2
}

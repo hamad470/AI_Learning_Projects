{
 "cells": [
  {
   "cell_type": "markdown",
   "metadata": {},
   "source": [
    "# Ensemble Techniques \n",
    "Combining Multiple models "
   ]
  },
  {
   "cell_type": "markdown",
   "metadata": {},
   "source": [
    "# There are two techniques for ensembling \n",
    "1. Bagging ( Also Called Bootstrap Aggregation)\n",
    "Random Forest Algorthim Use Bagging Technique\n",
    "2. Bootstraping ()\n",
    "XgBoost \n",
    "Gradient Boosting \n",
    "ADABoost"
   ]
  },
  {
   "cell_type": "markdown",
   "metadata": {},
   "source": [
    "# Bagging?\n",
    "1. Step One Do The sampling for data \n",
    "2. Also Do the sampling for Features \n",
    "3. Then Create Multiple models \n",
    "Let we have data set \"A\"\n",
    "We will create Multiple Sample of this data (Sub sets of this data like A1,A2,A3...An)\n",
    "After that we will provide each sample to a models like (A1-to->M1, A2-->M2,A3--M3....An-->Mn)\n",
    "\n",
    "After that we will call prediction on test data \n",
    "and then voting will be done wich class will have multiple voting this will be selected \n",
    "\n",
    "\n",
    "Sampling Data (Seprating Data ) and proving to Different Models is called \"bootstrap\" \n",
    "At the end voting technique and selecting single result is called aggregation therefore this technique called bootstrap aggregation \n",
    "\n",
    "# Data Sampling will be with Replacement \n",
    "mean may be some sample of data in A2 also occured in A1\n",
    "Repeatition can be occured \n",
    "\n"
   ]
  },
  {
   "cell_type": "markdown",
   "metadata": {},
   "source": [
    "# Boosting\n",
    "1. Create Multiple Models \n",
    "2. Provide whole data to model one M1\n",
    "3. Validate Model M1 if it gave 30 Accurate results and 70 invalid results ( By checking actual and predicted ) Then we will provide these 70 to the next model \n",
    "If next model gave accurate results for 30 and error on 40 then these 40 provide to next and same sequencialy provide each subset of errors to next model and repeat this untill we achieve highest accuracy \n"
   ]
  },
  {
   "cell_type": "markdown",
   "metadata": {},
   "source": []
  }
 ],
 "metadata": {
  "language_info": {
   "name": "python"
  }
 },
 "nbformat": 4,
 "nbformat_minor": 2
}
